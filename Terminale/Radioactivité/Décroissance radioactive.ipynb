{
 "cells": [
  {
   "cell_type": "code",
   "execution_count": null,
   "metadata": {},
   "outputs": [],
   "source": [
    "from matplotlib import pyplot as plt\n",
    "import seaborn as sns\n",
    "import numpy as np\n",
    "from scipy.optimize import curve_fit"
   ]
  },
  {
   "cell_type": "markdown",
   "metadata": {},
   "source": [
    "<center>\n",
    "<h1>Origine microscopique de la loi de décroissance radioactive</h1>\n",
    "</center>\n",
    "<hr />\n",
    "\n",
    "> L'objectif de cette activité est de réaliser que la **décroissance exponentielle** du nombre de noyaux radioactifs, que l'on constate au **niveau macroscopique**, a pour origine un **phénomène aléatoire au niveau microscopique**."
   ]
  },
  {
   "cell_type": "markdown",
   "metadata": {},
   "source": [
    "## Modélisation du phénomène\n",
    "\n",
    "- *La date à laquelle un noyau radioactif se désintègre ne peut pas être prévue*. La seule connaissance que l'on ait est la **probabilité de désintégration par unité de temps** $\\lambda$ du noyau étudié.    \n",
    "De façon similaire, quand on lance un dé, on ne peut pas prévoir le nombre de lancers nécessaires avant d'obtenir un 6. Seule la probabilité d'obtenir cette valeur est connue :\n",
    "$$\n",
    "p = \\dfrac{1}{6}\n",
    "$$\n",
    "\n",
    "- On assimile l'événement « le tirage du dé donne un 6 » à l'événement « le noyau se désintègre entre les dates $t$ et $t + dt$ ».   \n",
    "Effectuer des tirages d'un ensemble de dés revient alors à observer des noyaux d'un échantillon se désintégrer.\n",
    "\n",
    "- À l'issue de chaque tirage, on retire les dés ayant donné un 6 car « *un noyau ne peut se désintégrer plus d'une fois* ».\n",
    "\n",
    "- 20 dés sont lancés en même temps au premier tirage -- *c'est le nombre de noyaux au départ*.\n",
    "\n",
    "- Chaque tirage correspond à une même durée de comptage (prise égale à l'unité de temps).\n",
    "\n",
    "- Pour chaque tirage, noter le nombre de 6 obtenus et retirer les dés correspondants du lot.   \n",
    "En déduire le nombre de dés restants (noyaux non désintégrés)."
   ]
  },
  {
   "cell_type": "markdown",
   "metadata": {},
   "source": [
    "## 1. Travail expérimental\n",
    "\n",
    "### 1.1. Travail à effectuer par chaque groupe\n",
    "\n",
    "1. Effectuer, comme expliqué, une série de 15 tirages et compléter le code Python suivant :"
   ]
  },
  {
   "cell_type": "code",
   "execution_count": null,
   "metadata": {},
   "outputs": [],
   "source": [
    "t = [0, 1, 2, 3, 4, 5, 6, 7, 8, 9, 10, 11, 12, 13, 14, 15]\n",
    "N = [20, 19, 18, 15, 14, 9, 9, 7, 7, 7, 6, 3, 3, 3, 2, 2]  # Nombre de noyaux qui restent"
   ]
  },
  {
   "cell_type": "markdown",
   "metadata": {},
   "source": [
    "2. On cherche à afficher l'évolution du nombre de noyaux au cours du temps.   \n",
    "Compléter le code Python suivant :"
   ]
  },
  {
   "cell_type": "code",
   "execution_count": null,
   "metadata": {},
   "outputs": [],
   "source": [
    "sns.set()\n",
    "plt.figure(figsize=(8, 6), dpi=100)\n",
    "plt.plot(t, N, 'o')\n",
    "plt.xlabel(\"$t$ (s)\")\n",
    "plt.ylabel(\"$N$\")\n",
    "plt.show()"
   ]
  },
  {
   "cell_type": "markdown",
   "metadata": {},
   "source": [
    "3. L'évolution du nombre de noyaux est-elle exponentielle ? Pourquoi ?"
   ]
  },
  {
   "cell_type": "markdown",
   "metadata": {},
   "source": [
    "4. Refaire **5 fois de suite** l'expérience décrite à la question 1. et compléter le code suivant :"
   ]
  },
  {
   "cell_type": "code",
   "execution_count": null,
   "metadata": {},
   "outputs": [],
   "source": [
    "t = [0, 1, 2, 3, 4, 5, 6, 7, 8, 9, 10, 11, 12, 13, 14, 15]\n",
    "N = [100, 86, 68, 57, 50, 41, 35, 28, 22, 16, 12, 12, 11, 10, 9, 9]  # Nombre de noyaux qui restent"
   ]
  },
  {
   "cell_type": "markdown",
   "metadata": {},
   "source": [
    "5. On cherche à nouveau à afficher l'évolution du nombre de noyaux au cours du temps.   \n",
    "Compléter le code Python suivant :"
   ]
  },
  {
   "cell_type": "code",
   "execution_count": null,
   "metadata": {},
   "outputs": [],
   "source": [
    "sns.set()\n",
    "plt.figure(figsize=(8, 6), dpi=100)\n",
    "plt.plot(t, N, 'o')\n",
    "plt.xlabel(\"$t$ (s)\")\n",
    "plt.ylabel(\"$N$\")\n",
    "plt.show()"
   ]
  },
  {
   "cell_type": "markdown",
   "metadata": {},
   "source": [
    "6. Se rapproche-t-on d'une évolution exponentielle pour le nombre de noyaux restants ? Comment pourrait-on encore améliorer les résultats de l'expérience ?"
   ]
  },
  {
   "cell_type": "markdown",
   "metadata": {},
   "source": [
    "### 1.2. Mise en commun du travail effectué par tous les groupes\n",
    "\n",
    "7. Mettre en commun les résultats obtenus par tous les groupes et écrire le code Python dans la cellule suivante qui permet d'afficher l'évolution du nombre de noyaux restants $N$ en fonction du temps $t$.\n",
    "\n",
    "**Remarque :** vous n'avez en fait pratiquement rien à écrire, il suffit de copier-coller le code écrit ci-dessus."
   ]
  },
  {
   "cell_type": "code",
   "execution_count": null,
   "metadata": {},
   "outputs": [],
   "source": [
    "t = [0, 1, 2, 3, 4, 5, 6, 7, 8, 9, 10, 11, 12, 13, 14, 15]\n",
    "N = [900, 729, 593, 489, 413, 343, 291, 241, 205, 164, 131, 101, 88, 76, 67, 59]\n",
    "\n",
    "sns.set()\n",
    "plt.figure(figsize=(8, 6), dpi=100)\n",
    "plt.plot(t, N, 'o')\n",
    "plt.xlabel(\"$t$ (s)\")\n",
    "plt.ylabel(\"$N$\")\n",
    "plt.show()"
   ]
  },
  {
   "cell_type": "markdown",
   "metadata": {},
   "source": [
    "7. A-t-on obtenu l'évolution exponentielle pour le nombre de noyaux restants ?"
   ]
  },
  {
   "cell_type": "markdown",
   "metadata": {},
   "source": [
    "### 1.3. Modélisation de l'évolution du nombre de noyaux restants\n",
    "\n",
    "Tout le travail expérimental repose sur l'assimilation des événements « le tirage du dé donne un 6 » et « le noyau se désintègre entre les dates $t$ et $t + dt$ ». Si cette dernière est correcte, l'évolution du nombre de noyaux restant, démontrée dans le cours,\n",
    "$$\n",
    "N(t) = N_0 e^{-\\lambda t}\n",
    "$$\n",
    "doit donc être égale à \n",
    "$$\n",
    "N(t) = N_0 e^{-p t}\n",
    "$$\n",
    "avec \n",
    "$$\n",
    "p = \\dfrac{1}{6}\n",
    "$$\n",
    "\n",
    "> L'objectif de cette partie est de vérifier l'hypothèse ci-dessus en modélisant la courbe expérimentale.\n",
    "\n",
    "8. Exécuter le code Python suivant et noter la valeur des paramètres $N_0$ et $p$ donnés par la modélisation.\n",
    "\n",
    "**Remarque :** La modélisation de fonctions non-linéaires n'est pas une opération triviale... et n'est pas aussi précise que la modélisation d'une fonction linéaire. C'est donc $\\log(N)$ et non pas $N$ que l'on modélise.    \n",
    "Montrer que \n",
    "$$\n",
    "\\log(N) = A - p t\n",
    "$$\n",
    "avec $A=\\log (N_0)$."
   ]
  },
  {
   "cell_type": "code",
   "execution_count": null,
   "metadata": {},
   "outputs": [],
   "source": [
    "# Nouvelles dates pour l'affichage des grandeurs modélisées\n",
    "t_mod = np.linspace(min(t), max(t), 16)\n",
    "\n",
    "# Fonction modèle pour le comportement de N en fonction de t\n",
    "def modele_log_N(t, A, p):\n",
    "    return A - p * t\n",
    "\n",
    "# Détermination des paramètres optimaux pour N en fonction de t\n",
    "popt, pcov = curve_fit(modele_log_N, t, np.log(N))\n",
    "N0_mod = np.exp(popt[0])\n",
    "p_mod = popt[1]\n",
    "\n",
    "# Valeurs de N modélisées\n",
    "N_mod = N0_mod * np.exp(-p_mod * t_mod)\n",
    "\n",
    "# Affichage valeurs des paramètres\n",
    "print(f\"N0 = {N0_mod}\")\n",
    "print(f\"p = {p_mod}\")"
   ]
  },
  {
   "cell_type": "markdown",
   "metadata": {},
   "source": [
    "9. Compléter le code suivant. L'objectif est d'afficher $N(t)$ et $N_{mod}(t_{mod})$."
   ]
  },
  {
   "cell_type": "code",
   "execution_count": null,
   "metadata": {},
   "outputs": [],
   "source": [
    "sns.set()\n",
    "plt.figure(figsize=(8, 6), dpi=100)\n",
    "plt.plot(t, N, 'o', label=\"$N$\", color=\"green\")\n",
    "plt.plot(t_mod, N_mod, '-', label=\"$N_{mod}$\", color=\"green\")\n",
    "plt.xlabel(\"$t$ (s)\")\n",
    "plt.legend()\n",
    "plt.show()"
   ]
  },
  {
   "cell_type": "markdown",
   "metadata": {},
   "source": [
    "10. La valeur obtenue pour $p$ est-elle cohérente avec celle attendue ?"
   ]
  },
  {
   "cell_type": "markdown",
   "metadata": {},
   "source": [
    "## 2. Simulation\n",
    "\n",
    "Il est possible de simuler en Python l'expérience réalisée avec les dés. On peut alors choisir le nombre de noyaux que l'on souhaite ainsi que la probabilité de désintégration.\n",
    "\n",
    "Le code ci-dessous permet une telle simulation. Modifier les paramètres et l'éxécuter.\n",
    "\n",
    "**ATTENTION :** la complexité de l'algorithme est en $O(N^2)$. Si la valeur de $N_0$ est multipliée par 10, le temps de calcul peut être multiplié par 100 !"
   ]
  },
  {
   "cell_type": "code",
   "execution_count": null,
   "metadata": {},
   "outputs": [],
   "source": [
    "from random import randint\n",
    "from typing import List\n",
    "\n",
    "\n",
    "def nbre_desintegrations(N: int, p: int) -> int:\n",
    "    \"\"\"\n",
    "    Détermine le nombre de désintégrations entre les \n",
    "    instants t et t + 𝛥t.\n",
    "    \"\"\"\n",
    "    n = 0\n",
    "    for i in range(N):\n",
    "        des = randint(1, p)\n",
    "        if des == 1:  # 1 signifie \"se désintègre\"\n",
    "            n += 1\n",
    "    return n\n",
    "\n",
    "\n",
    "def affichage(x: List[int], y: List[int]) -> None:\n",
    "    \"\"\"\n",
    "    Réalise l'affichage.\n",
    "    \"\"\"\n",
    "    sns.set()\n",
    "    plt.figure(figsize=(8, 6), dpi=100)\n",
    "    plt.plot(x, y, 'o')\n",
    "    plt.xlabel(\"$t$ (s)\")\n",
    "    plt.ylabel(\"$N$\")\n",
    "    plt.show()\n",
    "\n",
    "\n",
    "\n",
    "N0 = int(1e6)    # Nombre initial de noyaux radioactifs\n",
    "N_lim = int(100)  # Nombre de noyaux considéré nul\n",
    "N = [N0]         # Nombre de noyaux restants\n",
    "t = [0]          # Dates\n",
    "p = 6            # Inverse de la probabilité pour qu'un noyau se désintègre chaque seconde\n",
    "\n",
    "while N[-1] > N_lim:\n",
    "    delta_N = nbre_desintegrations(N[-1], p)\n",
    "    N.append(N[-1] - delta_N)\n",
    "    t.append(t[-1] + 1)\n",
    "\n",
    "print(N)\n",
    "print(t)\n",
    "affichage(t, N)"
   ]
  }
 ],
 "metadata": {
  "interpreter": {
   "hash": "140daeb0614e363086690a9bdb8e96ae6082eb9e92f55d33b86d544a8a58f997"
  },
  "kernelspec": {
   "display_name": "Python 3.9.7 ('base')",
   "language": "python",
   "name": "python3"
  },
  "language_info": {
   "codemirror_mode": {
    "name": "ipython",
    "version": 3
   },
   "file_extension": ".py",
   "mimetype": "text/x-python",
   "name": "python",
   "nbconvert_exporter": "python",
   "pygments_lexer": "ipython3",
   "version": "3.9.7"
  },
  "orig_nbformat": 4
 },
 "nbformat": 4,
 "nbformat_minor": 2
}
