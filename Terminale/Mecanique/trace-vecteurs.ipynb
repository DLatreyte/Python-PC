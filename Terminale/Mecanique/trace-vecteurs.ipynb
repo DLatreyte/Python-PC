{
 "cells": [
  {
   "cell_type": "code",
   "execution_count": null,
   "metadata": {},
   "outputs": [],
   "source": [
    "from matplotlib import pyplot as plt\n",
    "import seaborn as sns\n",
    "import numpy as np\n",
    "from scipy.optimize import curve_fit"
   ]
  },
  {
   "cell_type": "markdown",
   "metadata": {},
   "source": [
    "<center>\n",
    "<h1>Étude d'un mouvement et tracés de vecteurs à l'aide de Python</h1>\n",
    "</center>\n",
    "<hr />\n",
    "\n",
    "> L'objectif de ce document est d'étudier le mouvement filmé d'une balle et de construire les vecteurs vitesse $\\vec{v}$, accélération $\\vec{a}$ et de comparer ce dernier à la résultante des forces, pour chacune des positions.\n",
    "\n",
    "## Partie expérimentale\n",
    "\n",
    "- Charger la [vidéo](https://www.icloud.com/iclouddrive/0abbeE5zMjRBUFT3AcmJjy3fg#BallTossOut) dans le logiciel [Mecachrono](https://www.eleves.online/MecaChrono/index.php?A=7&B=0&C=0&D=15&E=16&H=-1682993887&lang=fr).\n",
    "- Sélectionner « 30 images par seconde » et « un échantillon toutes les 1 images ».\n",
    "- Placer l'origine et le repère à un endroit qui vous semblera opportun (on peut aussi ne pas modifier sa position).\n",
    "- Définir l'échelle en utilisant la règle à l'écran : **chaque segment vertical jaune mesure 10 cm de long. En selectionner 10.**\n",
    "- Cliquer sur les différentes positions de la balle.\n",
    "- Sélectionner l'onglet « Tableau de valeurs » et exporter les données sous une forme directement exploitable sous Python.\n",
    "\n",
    "## Exploitation"
   ]
  },
  {
   "cell_type": "markdown",
   "metadata": {},
   "source": [
    "1. Insérer les listes contenant les dates $t$ et les valeurs des coordonnées $x$ et $y$."
   ]
  },
  {
   "cell_type": "code",
   "execution_count": null,
   "metadata": {},
   "outputs": [],
   "source": [
    "t = [ 0, 0.0333333, 0.0666666, 0.0999999, 0.133333, 0.166666, 0.2, 0.233333, 0.266666, 0.3, 0.333333, 0.366666, 0.4, 0.433333, 0.466666, 0.499999, 0.533333, 0.566666, 0.599999, 0.633333, 0.666666]\n",
    "x = [0.281197, 0.340018, 0.395274, 0.454095, 0.511134, 0.568173, 0.625212, 0.68225, 0.741071, 0.79811, 0.855149, 0.91397, 0.974574, 1.03161, 1.09043, 1.14747, 1.20629, 1.2669, 1.3275, 1.3881, 1.45227]\n",
    "y = [0.650325, 0.723406, 0.784009, 0.835701, 0.874915, 0.903434, 0.921259, 0.928389, 0.924824, 0.908782, 0.883827, 0.846395, 0.794704, 0.735883, 0.662802, 0.579026, 0.486338, 0.379391, 0.261748, 0.129846, -0.0127504]"
   ]
  },
  {
   "cell_type": "markdown",
   "metadata": {},
   "source": [
    "2. Rappeler la définition de la trajectoire d'un système par rapport à un référentiel.    \n",
    "Dans la suite de ce document, on étudier le mouvement par rapport au référentiel terrestre.        \n",
    "Compléter le code suivant, l'objectif étant d'afficher cette trajectoire."
   ]
  },
  {
   "cell_type": "code",
   "execution_count": null,
   "metadata": {},
   "outputs": [],
   "source": [
    "sns.set()\n",
    "plt.figure(figsize=(8, 6), dpi=100)\n",
    "plt.plot(x, y, 'o')\n",
    "plt.xlabel(\"$x$ (m)\")\n",
    "plt.ylabel(\"$y$ (m)\")\n",
    "plt.show()"
   ]
  },
  {
   "cell_type": "markdown",
   "metadata": {},
   "source": [
    "3. La trajectoire correspond-elle bien à ce que l'on peut voir sur la vidéo ?"
   ]
  },
  {
   "cell_type": "markdown",
   "metadata": {},
   "source": [
    "4. On cherche à tracer l'évolution de l'abscisse horizontale $x$ en fonction du temps $t$.    \n",
    "Compléter le code suivant."
   ]
  },
  {
   "cell_type": "code",
   "execution_count": null,
   "metadata": {},
   "outputs": [],
   "source": [
    "sns.set()\n",
    "plt.figure(figsize=(8, 6), dpi=100)\n",
    "plt.plot(t, x, 'o')\n",
    "plt.xlabel(\"$t$ (s)\")\n",
    "plt.ylabel(\"$x$ (m)\")\n",
    "plt.show()"
   ]
  },
  {
   "cell_type": "markdown",
   "metadata": {},
   "source": [
    "5. Comment peut-on qualifier le mouvement horizontal ?"
   ]
  },
  {
   "cell_type": "markdown",
   "metadata": {},
   "source": [
    "6. On cherche à tracer l'évolution de l'ordonnée $y$ en fonction du temps $t$.   \n",
    "Compléter le code suivant. "
   ]
  },
  {
   "cell_type": "code",
   "execution_count": null,
   "metadata": {},
   "outputs": [],
   "source": [
    "sns.set()\n",
    "plt.figure(figsize=(8, 6), dpi=100)\n",
    "plt.plot(t, y, 'o')\n",
    "plt.xlabel(\"$t$ (s)\")\n",
    "plt.ylabel(\"$y$ (m)\")\n",
    "plt.show()"
   ]
  },
  {
   "cell_type": "markdown",
   "metadata": {},
   "source": [
    "7. Le mouvement vertical est-il : uniforme ? accéléré ? nul ?"
   ]
  },
  {
   "cell_type": "markdown",
   "metadata": {},
   "source": [
    "> Dans la suite de ce document on va être amené à dériver les fonctions $x(t)$ et $y(t)$ afin de déterminer les composantes du vecteur vitesse $\\vec{v}$. *Comme la dérivation numérique est une opération qui introduit du « bruit »*, il est préférable de **modéliser** au préalable ces fonctions.\n",
    "\n",
    "8. Compléter le code des fonctions `modele_x` et `modele_y` suivantes en fonction du comportement global des fonctions $x(t)$ et $y(t)$ constaté lors des questions précédentes."
   ]
  },
  {
   "cell_type": "code",
   "execution_count": null,
   "metadata": {},
   "outputs": [],
   "source": [
    "# Nouvelles dates pour l'affichage des grandeurs modélisées\n",
    "t_mod = np.linspace(min(t), max(t), 101)\n",
    "\n",
    "# Fonction modèle pour le comportement de x en fonction de t\n",
    "def modele_x(x, a, b):\n",
    "    return a * x + b\n",
    "\n",
    "# Fonction modèle pour le comportement de y en fonction de t\n",
    "def modele_y(x, a, b, c):\n",
    "    return a * x**2 + b * x + c\n",
    "\n",
    "# Détermination des paramètres optimaux pour x en fonction de t\n",
    "popt, pcov = curve_fit(modele_x, t, x)\n",
    "a_xmod = popt[0]\n",
    "b_xmod = popt[1]\n",
    "\n",
    "# Détermination des paramètres optimaux pour y en fonction de t\n",
    "popt, pcov = curve_fit(modele_y, t, y)\n",
    "a_ymod = popt[0]\n",
    "b_ymod = popt[1]\n",
    "c_ymod = popt[2]\n",
    "\n",
    "# Valeurs de x modélisées\n",
    "x_mod = modele_x(t_mod, a_xmod, b_xmod)\n",
    "\n",
    "# Valeurs de y modélisées\n",
    "y_mod = modele_y(t_mod, a_ymod, b_ymod, c_ymod)"
   ]
  },
  {
   "cell_type": "markdown",
   "metadata": {},
   "source": [
    "9. Compléter le code suivant, l'objectif est d'afficher $x(t)$, $y(t)$, $x_{mod}(t_{mod})$ et $z_{mod}(t_{mod})$ afin de vérifier la pertinence de la modélisation."
   ]
  },
  {
   "cell_type": "code",
   "execution_count": null,
   "metadata": {},
   "outputs": [],
   "source": [
    "sns.set()\n",
    "plt.figure(figsize=(8, 6), dpi=100)\n",
    "plt.plot(t, x, 'o', label=\"$x$\", color=\"green\")\n",
    "plt.plot(t, y, 'o', label=\"$y$\", color=\"orange\")\n",
    "plt.plot(t_mod, x_mod, '-', label=\"$x_{mod}$\", color=\"green\")\n",
    "plt.plot(t_mod, y_mod, '-', label=\"$y_{mod}$\", color=\"orange\")\n",
    "plt.xlabel(\"$t$ (s)\")\n",
    "plt.legend()\n",
    "plt.show()"
   ]
  },
  {
   "cell_type": "markdown",
   "metadata": {},
   "source": [
    "> Dans la suite de ce document, on effectuera le calcul de toutes les grandeurs à partir des fonctions $x_{mod}(t_{mod})$ et $y_{mod}(t_{mod})$.\n",
    "\n",
    "On cherche maintenant à déterminer les composantes $v_x$ et $v_y$ du vecteur vitesse $\\vec{v}$.\n",
    "\n",
    "10. Compléter le code suivant et répondre aux questions."
   ]
  },
  {
   "cell_type": "code",
   "execution_count": null,
   "metadata": {},
   "outputs": [],
   "source": [
    "vx = [0] * len(t_mod)  # Que fait-on ?\n",
    "vy = [0] * len(t_mod)  # Que fait-on ?\n",
    "\n",
    "for i in range(1, len(t_mod) - 1):   # Pourquoi cet intervalle ?\n",
    "    vx[i] = (x_mod[i + 1] - x_mod[i - 1]) / (t_mod[i + 1] - t_mod[i - 1])\n",
    "    vy[i] = (y_mod[i + 1] - y_mod[i - 1]) / (t_mod[i + 1] - t_mod[i - 1])"
   ]
  },
  {
   "cell_type": "markdown",
   "metadata": {},
   "source": [
    "9. Compléter le code suivant, l'objectif est de tracer l'évolution au cours du temps des composantes du vecteur vitesse $\\vec{v}$."
   ]
  },
  {
   "cell_type": "code",
   "execution_count": null,
   "metadata": {},
   "outputs": [],
   "source": [
    "sns.set()\n",
    "plt.figure(figsize=(8, 6), dpi=100)\n",
    "plt.plot(t_mod[1: -1], vx[1: -1], '-', label=\"$v_x$\")\n",
    "plt.plot(t_mod[1: -1], vy[1: -1], '-', label=\"$v_y$\")\n",
    "plt.xlabel(\"$t$ (s)\")\n",
    "plt.legend()\n",
    "plt.show()"
   ]
  },
  {
   "cell_type": "markdown",
   "metadata": {},
   "source": [
    "10. Compléter le code suivant, l'objectif est de constuire les composantes $a_x$ et $a_y$ du vecteur accélération $\\vec{a}$.      \n",
    "Répondre aux questions."
   ]
  },
  {
   "cell_type": "code",
   "execution_count": null,
   "metadata": {},
   "outputs": [],
   "source": [
    "ax = [0] * len(t_mod)  # Que fait-on ?\n",
    "ay = [0] * len(t_mod)  # Que fait-on ?\n",
    "\n",
    "for i in range(1, len(t_mod) - 1):  # Pourquoi cet intervalle ?\n",
    "    ax[i] = (vx[i + 1] - vx[i - 1]) / (t_mod[i + 1] - t_mod[i - 1])\n",
    "    ay[i] = (vy[i + 1] - vy[i - 1]) / (t_mod[i + 1] - t_mod[i - 1])"
   ]
  },
  {
   "cell_type": "markdown",
   "metadata": {},
   "source": [
    "11. Compléter le code suivant, l'objectif est d'afficher les composantes $a_x$ et $a_y$ du vecteur accélération $\\vec{a}$.     \n",
    "Commenter les allures des courbes."
   ]
  },
  {
   "cell_type": "code",
   "execution_count": null,
   "metadata": {},
   "outputs": [],
   "source": [
    "sns.set()\n",
    "plt.figure(figsize=(8, 6), dpi=100)\n",
    "plt.plot(t_mod[2: -2], ax[2: -2], '-', label=\"$a_x$\")\n",
    "plt.plot(t_mod[2: -2], ay[2: -2], '-', label=\"$a_y$\")\n",
    "plt.xlabel(\"$t$ (s)\")\n",
    "plt.legend()\n",
    "plt.show()"
   ]
  },
  {
   "cell_type": "markdown",
   "metadata": {},
   "source": [
    "12. Dire quelles sont les grandeurs représentées sur le graphique qui suit."
   ]
  },
  {
   "cell_type": "code",
   "execution_count": null,
   "metadata": {},
   "outputs": [],
   "source": [
    "sns.set()\n",
    "plt.figure(figsize=(8, 6), dpi=100)\n",
    "plt.plot(x_mod, y_mod, '-', label=\"y\")\n",
    "for i in range(1, len(x_mod)):\n",
    "    if i % 10 == 0:\n",
    "        plt.quiver(x_mod[i], y_mod[i], vx[i], vy[i], angles=\"xy\", color=\"green\", scale=20)\n",
    "        plt.quiver(x_mod[i], y_mod[i], 0, ay[i], angles=\"xy\", color=\"orange\", scale=70)\n",
    "        #plt.text(x_mod[i]+10, y_mod[i]+10, \"jkl\")\n",
    "plt.xlabel(\"$t$ (s)\")\n",
    "plt.legend()\n",
    "plt.show()"
   ]
  },
  {
   "cell_type": "markdown",
   "metadata": {},
   "source": [
    "13. Commenter l'allure du vecteur vitesse $\\vec{v}$, celle du vecteur accélération $\\vec{a}$."
   ]
  },
  {
   "cell_type": "markdown",
   "metadata": {},
   "source": [
    "14. Faire un bilan des forces. Le résultat de cette étude est-il en adéquation avec ce bilan ?"
   ]
  }
 ],
 "metadata": {
  "interpreter": {
   "hash": "140daeb0614e363086690a9bdb8e96ae6082eb9e92f55d33b86d544a8a58f997"
  },
  "kernelspec": {
   "display_name": "Python 3.9.7 ('base')",
   "language": "python",
   "name": "python3"
  },
  "language_info": {
   "codemirror_mode": {
    "name": "ipython",
    "version": 3
   },
   "file_extension": ".py",
   "mimetype": "text/x-python",
   "name": "python",
   "nbconvert_exporter": "python",
   "pygments_lexer": "ipython3",
   "version": "3.9.7"
  },
  "orig_nbformat": 4
 },
 "nbformat": 4,
 "nbformat_minor": 2
}
