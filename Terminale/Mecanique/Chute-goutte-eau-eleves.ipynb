{
  "cells": [
    {
      "cell_type": "code",
      "execution_count": null,
      "metadata": {
        "trusted": true
      },
      "outputs": [],
      "source": [
        "import piplite\n",
        "await piplite.install('seaborn')\n",
        "\n",
        "import numpy as np\n",
        "from scipy.optimize import curve_fit\n",
        "from matplotlib import pyplot as plt\n",
        "import seaborn as sns"
      ]
    },
    {
      "cell_type": "markdown",
      "metadata": {},
      "source": [
        "<center>\n",
        "    <h1> Chute d'une goutte d'eau dans différents milieux </h1>\n",
        "</center>"
      ]
    },
    {
      "cell_type": "markdown",
      "metadata": {},
      "source": [
        "## 1. Chute d'une goutte d'eau dans l'air\n",
        "\n",
        "> L'objectif de cette partie est d'étudier le mouvement de la goutte dans l'air et d'en déduire ses caractéristiques.\n",
        "\n",
        "### 1.1. Partie expérimentale\n",
        "\n",
        "- Charger la [vidéo](https://www.icloud.com/iclouddrive/064P0Q6rYzhxCuZABVTUKTHXA#oil-drop) dans le logiciel [Mecachrono](https://www.eleves.online/MecaChrono/index.php?A=5&B=0&C=0&D=15&E=18&H=-48535135&lang=fr).\n",
        "- Sélectionner « 30 images par seconde » et « un échantillon toutes les 3 images ».\n",
        "- Placer l'origine et le repère à un endroit qui vous semblera opportun.\n",
        "- Définir l'échelle en utilisant la règle à l'écran.\n",
        "- Sélectionner les différentes positions de la goutte.\n",
        "- Sélectionner l'onglet « Tableau de valeurs » et exporter les données sous une forme directement exploitable sous Python.\n",
        "\n",
        "### 1.2. Exploitation"
      ]
    },
    {
      "cell_type": "markdown",
      "metadata": {},
      "source": [
        "1. Insérer les listes contenant les dates $t$ et les valeurs de l'ordonnée $y$."
      ]
    },
    {
      "cell_type": "code",
      "execution_count": null,
      "metadata": {
        "trusted": true
      },
      "outputs": [],
      "source": [
        "t = [ ..... ]  # s\n",
        "y = [ ..... ]  # m"
      ]
    },
    {
      "cell_type": "markdown",
      "metadata": {},
      "source": [
        "2. Compléter le code suivant. L'objectif est d'afficher $y$ en fonction de $t$."
      ]
    },
    {
      "cell_type": "code",
      "execution_count": null,
      "metadata": {
        "trusted": true
      },
      "outputs": [],
      "source": [
        "sns.set()\n",
        "plt.plot( ..... ,  ..... , 'o')\n",
        "plt.xlabel(\"t (s)\")\n",
        "plt.ylabel(\"y (m)\")\n",
        "plt.show()"
      ]
    },
    {
      "cell_type": "markdown",
      "metadata": {},
      "source": [
        "3. On souhaite modéliser le comportement de la goutte. Compléter le code suivant."
      ]
    },
    {
      "cell_type": "code",
      "execution_count": null,
      "metadata": {
        "trusted": true
      },
      "outputs": [],
      "source": [
        "# Fonction modèle\n",
        "def modele(x, a, b, c):\n",
        "    return  ..... \n",
        "\n",
        "# Détermination des paramètres optimaux\n",
        "popt, pcov = curve_fit(modele, t, y)\n",
        "a_mod = popt[0]\n",
        "b_mod = popt[1]\n",
        "c_mod = popt[2]\n",
        "\n",
        "# Tracé\n",
        "t_mod = np.linspace(min(t), max(t), 100)\n",
        "y_mod = modele(t_mod, a_mod, b_mod, c_mod)\n",
        "\n",
        "sns.set()\n",
        "plt.plot( ..... ,  ..... , 'o')\n",
        "plt.plot( ..... ,  ..... )\n",
        "plt.xlabel(\"t (s)\")\n",
        "plt.ylabel(\"y (m)\")\n",
        "plt.show()\n",
        "\n",
        "print(\"Paramètres de la modélisation : {}, {}, {}\".format(a_mod, b_mod, c_mod))"
      ]
    },
    {
      "cell_type": "markdown",
      "metadata": {},
      "source": [
        "4. Quel type de mouvement laisse entrevoir le résultat de la modélisation ?\n",
        "\n",
        "5. On souhaite maintenant établir l'évolution de la composante verticale de la vitesse de la goutte en fonction du temps.    \n",
        "    Compléter le code suivant (en n'oubliant pas de répondre aux questions posées).\n",
        "    \n",
        "> **Remarque :** l'opération de **dérivation numérique** introduit du bruit. *On ne va donc pas travailler à partir des résultats expérimentaux* $t$ *et* $y$ *mais à partir des grandeurs résultats de la modélisation* $t_{mod}$ et $y_{mod}$."
      ]
    },
    {
      "cell_type": "code",
      "execution_count": null,
      "metadata": {
        "trusted": true
      },
      "outputs": [],
      "source": [
        "vy = [0] * len(t_mod)  # création d'une liste de même dimension que t_mod, ne contenant que des 0\n",
        "\n",
        "vy[0] = (y_mod[1] - y_mod[0]) / (t_mod[1] - t_mod[0])  # Que fait-on ici ?\n",
        "\n",
        "indice_max = len(t_mod) - 1                            # indice du dernier élément de la liste\n",
        "vy[indice_max] = (y_mod[indice_max] - y_mod[indice_max - 1]) / (t_mod[indice_max] - t_mod[indice_max - 1])  # Que fait-on ici ?\n",
        "\n",
        "for i in range(1, indice_max):\n",
        "    vy[i] = ( ..... ) / ( ..... )"
      ]
    },
    {
      "cell_type": "markdown",
      "metadata": {},
      "source": [
        "6. Afficher l'évolution de la composante verticale de la vitesse de la goutte en fonction du temps."
      ]
    },
    {
      "cell_type": "code",
      "execution_count": null,
      "metadata": {
        "trusted": true
      },
      "outputs": [],
      "source": [
        "sns.set()\n",
        "plt.plot( ..... ,  ..... , '-')\n",
        "plt.xlabel(\"t (s)\")\n",
        "plt.ylabel(r\"$v_y (\\mathrm{m}\\cdot\\mathrm{s}^{-1})$\")\n",
        "plt.show()"
      ]
    },
    {
      "cell_type": "markdown",
      "metadata": {},
      "source": [
        "7. Pourquoi la composante verticale de la vitesse de la goutte est-elle négative ?"
      ]
    },
    {
      "cell_type": "markdown",
      "metadata": {},
      "source": [
        "8. On souhaite maintenant déterminer l'évolution de la composante verticale de l'accélération de la goutte en fonction du temps.    \n",
        "    Compléter le code suivant (en n'oubliant pas de répondre aux questions)."
      ]
    },
    {
      "cell_type": "code",
      "execution_count": null,
      "metadata": {
        "trusted": true
      },
      "outputs": [],
      "source": [
        "ay = [0] * len(t_mod)  # que fait-on ici ?\n",
        "\n",
        "ay[0] = (vy[1] - vy[0]) / (t_mod[1] - t_mod[0])  # Que fait-on ici ?\n",
        "\n",
        "indice_max = len(t_mod) - 1  # indice du dernier élément de la liste\n",
        "ay[indice_max] = (vy[indice_max] - vy[indice_max - 1]) / (t_mod[indice_max] - t_mod[indice_max - 1])  # Que fait-on ici ?\n",
        "\n",
        "for i in range(1, indice_max):\n",
        "    ay[i] = ( ..... ) / ( ..... )"
      ]
    },
    {
      "cell_type": "markdown",
      "metadata": {},
      "source": [
        "9. Afficher l'évolution de la composante verticale de l'accélération de la goutte en fonction du temps."
      ]
    },
    {
      "cell_type": "code",
      "execution_count": null,
      "metadata": {
        "trusted": true
      },
      "outputs": [],
      "source": [
        "sns.set()\n",
        "plt.plot( ..... ,  ..... , '-')\n",
        "plt.xlabel(\"t (s)\")\n",
        "plt.ylabel(r\"$a_y (\\mathrm{m}\\cdot\\mathrm{s}^{-2})$\")\n",
        "plt.show()"
      ]
    },
    {
      "cell_type": "markdown",
      "metadata": {},
      "source": [
        "10. Le résultat obtenu confirme-t-il la réponse à la question 4 ?"
      ]
    },
    {
      "cell_type": "markdown",
      "metadata": {},
      "source": [
        "### 1.3. Évolution de l'énergie mécanique massique"
      ]
    },
    {
      "cell_type": "markdown",
      "metadata": {},
      "source": [
        "1. Construire la liste $ec$ contenant les valeurs de l'énergie cinétique massique de la goutte au cours de son mouvement."
      ]
    },
    {
      "cell_type": "code",
      "execution_count": null,
      "metadata": {
        "trusted": true
      },
      "outputs": [],
      "source": [
        "ec = []\n",
        "for v in vy:\n",
        "     ..... "
      ]
    },
    {
      "cell_type": "markdown",
      "metadata": {},
      "source": [
        "2. Constuire la liste $e_{pp}$ contenant les valeurs de l'énergie potentielle de pesanteur massique de la goutte au cours de son mouvement.\n",
        "\n",
        "**Remarque :** On considérera que l'énergie potentielle de pesanteur est nulle lorsque $y_{mod}=0$."
      ]
    },
    {
      "cell_type": "code",
      "execution_count": null,
      "metadata": {
        "trusted": true
      },
      "outputs": [],
      "source": [
        "epp = []\n",
        "for y in y_mod:\n",
        "     ..... "
      ]
    },
    {
      "cell_type": "markdown",
      "metadata": {},
      "source": [
        "3. Construire la liste $e_m$ contenant les valeurs de l'énergie mécanique de la goutte au cours de son mouvement."
      ]
    },
    {
      "cell_type": "code",
      "execution_count": null,
      "metadata": {
        "trusted": true
      },
      "outputs": [],
      "source": [
        "em = []\n",
        "for i in range(len(t_mod)):\n",
        "     ..... "
      ]
    },
    {
      "cell_type": "markdown",
      "metadata": {},
      "source": [
        "4. Afficher sur le même graphique les évolutions des énergie cinétique, potentielle de pesanteur et mécanique."
      ]
    },
    {
      "cell_type": "code",
      "execution_count": null,
      "metadata": {
        "trusted": true
      },
      "outputs": [],
      "source": [
        "sns.set()\n",
        "plt.plot( ..... ,  ..... , '-', label=\"Énergie cinétique (J)\")\n",
        "plt.plot( ..... ,  ..... , '-', label=\"Énergie potentielle de pesanteur (J)\")\n",
        "plt.plot( ..... ,  ..... , '-', label=\"Énergie mécanique (J)\")\n",
        "plt.xlabel(\"t (s)\")\n",
        "plt.ylabel(\"E (J)\")\n",
        "plt.legend()\n",
        "plt.show()"
      ]
    },
    {
      "cell_type": "markdown",
      "metadata": {},
      "source": [
        "5. L'énergie mécanique se conserve-t-elle ?"
      ]
    },
    {
      "cell_type": "markdown",
      "metadata": {},
      "source": [
        "## 2. Chute d'une goutte dans une huile de moteur\n",
        "\n",
        "La bouteille présente sur le film contient une huile de moteur minérale utilisée dans les moteurs de voiture. \n",
        "\n",
        "> L'objectif de cette partie est de déterminer le mouvement de la goutte dans l'huile et d'en déduire ses caractéristiques.\n",
        "\n",
        "### 2.1. Partie expérimentale\n",
        "\n",
        "- Charger la [vidéo](https://www.icloud.com/iclouddrive/064P0Q6rYzhxCuZABVTUKTHXA#oil-drop) dans le logiciel [Mecachrono](https://www.eleves.online/MecaChrono/index.php?A=5&B=0&C=0&D=15&E=16&H=-1823542497&lang=fr).\n",
        "- Sélectionner « 30 images par seconde » et « un échantillon toutes les 30 images ».\n",
        "- Placer l'origine à un endroit qui vous semblera opportun.\n",
        "- Définir l'échelle en utilisant la règle à l'écran.\n",
        "- Sélectionner les différentes positions de la goutte (attendre, pour la première position que la goutte soit à environ 1 cm en dessous de la surface).\n",
        "- Sélectionner l'onglet « Tableau de valeurs » et exporter les données sous une forme directement exploitable sous Python.\n",
        "\n",
        "### 2.2. Exploitation"
      ]
    },
    {
      "cell_type": "markdown",
      "metadata": {},
      "source": [
        "1. Insérer les listes contenant les dates $t$ et les valeurs de l'ordonnée $y$."
      ]
    },
    {
      "cell_type": "code",
      "execution_count": null,
      "metadata": {
        "trusted": true
      },
      "outputs": [],
      "source": [
        "t = [  ..... ]\n",
        "y = [ ..... ]"
      ]
    },
    {
      "cell_type": "markdown",
      "metadata": {},
      "source": [
        "2. Compléter le code suivant. L'objectif est d'afficher $y$ en fonction de $t$."
      ]
    },
    {
      "cell_type": "code",
      "execution_count": null,
      "metadata": {
        "trusted": true
      },
      "outputs": [],
      "source": [
        "sns.set()\n",
        "plt.plot( ..... ,  ..... , 'o')\n",
        "plt.xlabel(\"t (s)\")\n",
        "plt.ylabel(\"y (m)\")\n",
        "plt.show()"
      ]
    },
    {
      "cell_type": "markdown",
      "metadata": {},
      "source": [
        "3. Commenter l'allure de la courbe obtenue. Que peut-on dire de la valeur de la vitesse ? Qualifier le mouvement."
      ]
    },
    {
      "cell_type": "markdown",
      "metadata": {},
      "source": [
        "4. Afin de déterminer la valeur de la vitesse de chute, on cherche à modéliser la courbe précédente.   \n",
        "    Compléter le code suivant."
      ]
    },
    {
      "cell_type": "code",
      "execution_count": null,
      "metadata": {
        "trusted": true
      },
      "outputs": [],
      "source": [
        "# Fonction modèle\n",
        "def modele(x, a, b):\n",
        "    return  ..... \n",
        "\n",
        "# Détermination des paramètres optimaux\n",
        "popt, pcov = curve_fit(modele, t, y)\n",
        "a_mod = popt[0]\n",
        "b_mod = popt[1]\n",
        "\n",
        "# Tracé\n",
        "t_mod = np.linspace(min(t), max(t), 100)\n",
        "y_mod = modele(t_mod, a_mod, b_mod)\n",
        "\n",
        "sns.set()\n",
        "plt.plot( ..... ,  ..... , 'o')\n",
        "plt.plot( ..... ,  ..... )\n",
        "plt.xlabel(\"t (s)\")\n",
        "plt.ylabel(\"y (m)\")\n",
        "plt.show()\n",
        "\n",
        "print(\"Paramètres de la modélisation : {} et {}\".format(a_mod, b_mod))"
      ]
    },
    {
      "cell_type": "markdown",
      "metadata": {},
      "source": [
        "5. Indiquer la valeur de la vitesse de chute."
      ]
    },
    {
      "cell_type": "markdown",
      "metadata": {},
      "source": [
        "6. Que peut-on dire des forces qui agissent sur la goutte d'eau ? Énumérer ces forces et faire un schéma."
      ]
    },
    {
      "cell_type": "markdown",
      "metadata": {},
      "source": [
        "7. L'énergie mécanique reste-t-elle constante au cours du mouvement ? Justifier son évolution."
      ]
    }
  ],
  "metadata": {
    "interpreter": {
      "hash": "140daeb0614e363086690a9bdb8e96ae6082eb9e92f55d33b86d544a8a58f997"
    },
    "kernelspec": {
      "display_name": "Pyolite",
      "language": "python",
      "name": "python3"
    },
    "language_info": {
      "codemirror_mode": {
        "name": "ipython",
        "version": 3
      },
      "file_extension": ".py",
      "mimetype": "text/x-python",
      "name": "python",
      "nbconvert_exporter": "python",
      "pygments_lexer": "ipython3",
      "version": "3.9.7"
    }
  },
  "nbformat": 4,
  "nbformat_minor": 4
}
