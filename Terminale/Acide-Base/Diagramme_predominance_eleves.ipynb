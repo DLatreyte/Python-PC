{
  "cells": [
    {
      "cell_type": "code",
      "execution_count": null,
      "metadata": {
        "trusted": true
      },
      "outputs": [],
      "source": [
        "from matplotlib import pyplot as plt\n",
        "import seaborn as sns\n",
        "import numpy as np"
      ]
    },
    {
      "cell_type": "markdown",
      "metadata": {
        "tags": []
      },
      "source": [
        "<center>\n",
        "<h1> Tracé d'un diagramme de prédominance </h1>\n",
        "</center>\n",
        "<hr />"
      ]
    },
    {
      "cell_type": "markdown",
      "metadata": {},
      "source": [
        "## Variables du problème"
      ]
    },
    {
      "cell_type": "code",
      "execution_count": null,
      "metadata": {
        "trusted": true
      },
      "outputs": [],
      "source": [
        "pKa1 = .....\n",
        "pKa2 = ....."
      ]
    },
    {
      "cell_type": "markdown",
      "metadata": {},
      "source": [
        "## Liste des valeurs du pH"
      ]
    },
    {
      "cell_type": "code",
      "execution_count": null,
      "metadata": {
        "trusted": true
      },
      "outputs": [],
      "source": [
        "pHs = np.linspace(0, 14, 50)  # 50 valeurs entre 0 et 14 (inclus)"
      ]
    },
    {
      "cell_type": "markdown",
      "metadata": {
        "tags": []
      },
      "source": [
        "## Fonctions qui calculent des pourcentages de AH et A-"
      ]
    },
    {
      "cell_type": "code",
      "execution_count": null,
      "metadata": {
        "trusted": true
      },
      "outputs": [],
      "source": [
        "def pourcentage_HA(pH: float, pKa: float) -> float:\n",
        "    \"\"\" Calcule le pourcentage de la forme acide pour la valeur du pH passée en argument \"\"\"\n",
        "    return .....\n",
        "\n",
        "\n",
        "def pourcentage_Amoins(pH: float, pKa: float) -> float:\n",
        "    \"\"\" calcule le pourcentage de la forme basique pour la valeur du pH passée en argument \"\"\"\n",
        "    return ....."
      ]
    },
    {
      "cell_type": "markdown",
      "metadata": {},
      "source": [
        "## Calculs de tous les pourcentages"
      ]
    },
    {
      "cell_type": "code",
      "execution_count": null,
      "metadata": {
        "trusted": true
      },
      "outputs": [],
      "source": [
        "AHs = []\n",
        "for pH in pHs:\n",
        "    .....\n",
        "    \n",
        "Amoins = []\n",
        "..... :\n",
        "    ....."
      ]
    },
    {
      "cell_type": "markdown",
      "metadata": {},
      "source": [
        "## Tracés"
      ]
    },
    {
      "cell_type": "code",
      "execution_count": null,
      "metadata": {
        "trusted": true
      },
      "outputs": [],
      "source": [
        "sns.set()\n",
        "plt.plot(....., ....., '-')\n",
        "plt.plot(....., ....., '-')\n",
        "plt.show()"
      ]
    }
  ],
  "metadata": {
    "kernelspec": {
      "display_name": "Pyolite",
      "language": "python",
      "name": "python"
    },
    "language_info": {
      "codemirror_mode": {
        "name": "python",
        "version": 3
      },
      "file_extension": ".py",
      "mimetype": "text/x-python",
      "name": "python",
      "nbconvert_exporter": "python",
      "pygments_lexer": "ipython3",
      "version": "3.8"
    }
  },
  "nbformat": 4,
  "nbformat_minor": 4
}
