{
  "metadata": {
    "language_info": {
      "codemirror_mode": {
        "name": "python",
        "version": 3
      },
      "file_extension": ".py",
      "mimetype": "text/x-python",
      "name": "python",
      "nbconvert_exporter": "python",
      "pygments_lexer": "ipython3",
      "version": "3.8"
    },
    "kernelspec": {
      "name": "python",
      "display_name": "Pyolite",
      "language": "python"
    }
  },
  "nbformat_minor": 4,
  "nbformat": 4,
  "cells": [
    {
      "cell_type": "code",
      "source": "import piplite\nawait piplite.install('seaborn')",
      "metadata": {
        "tags": [],
        "trusted": true
      },
      "execution_count": null,
      "outputs": []
    },
    {
      "cell_type": "markdown",
      "source": "# Tracé d'un diagramme de prédominance",
      "metadata": {
        "tags": []
      }
    },
    {
      "cell_type": "code",
      "source": "from matplotlib import pyplot as plt\nimport seaborn as sns\nimport numpy as np",
      "metadata": {
        "trusted": true
      },
      "execution_count": null,
      "outputs": []
    },
    {
      "cell_type": "markdown",
      "source": "# Variables du problème",
      "metadata": {}
    },
    {
      "cell_type": "code",
      "source": "pKa1 = .....\npKa2 = .....",
      "metadata": {
        "trusted": true
      },
      "execution_count": null,
      "outputs": []
    },
    {
      "cell_type": "markdown",
      "source": "## Liste des valeurs du pH",
      "metadata": {}
    },
    {
      "cell_type": "code",
      "source": "pHs = np.linspace(0, 14, 50)  # 50 valeurs entre 0 et 14 (inclus)",
      "metadata": {
        "trusted": true
      },
      "execution_count": null,
      "outputs": []
    },
    {
      "cell_type": "markdown",
      "source": "## Fonctions qui calculent des pourcentages de AH et A-",
      "metadata": {
        "tags": []
      }
    },
    {
      "cell_type": "code",
      "source": "def pourcentage_HA(pH: float, pKa: float) -> float:\n    \"\"\" Calcule le pourcentage de la forme acide pour la valeur du pH passée en argument \"\"\"\n    return .....\n\n\ndef pourcentage_Amoins(pH: float, pKa: float) -> float:\n    \"\"\" calcule le pourcentage de la forme basique pour la valeur du pH passée en argument \"\"\"\n    return .....",
      "metadata": {
        "trusted": true
      },
      "execution_count": null,
      "outputs": []
    },
    {
      "cell_type": "markdown",
      "source": "## Calculs de tous les pourcentages",
      "metadata": {}
    },
    {
      "cell_type": "code",
      "source": "AHs = []\nfor pH in pHs:\n    .....\n    \nAmoins = []\n..... :\n    .....",
      "metadata": {
        "trusted": true
      },
      "execution_count": null,
      "outputs": []
    },
    {
      "cell_type": "markdown",
      "source": "## Tracés",
      "metadata": {}
    },
    {
      "cell_type": "code",
      "source": "sns.set()\nplt.plot(....., ....., '-')\nplt.plot(....., ....., '-')\nplt.show()",
      "metadata": {
        "trusted": true
      },
      "execution_count": null,
      "outputs": []
    },
    {
      "cell_type": "code",
      "source": "",
      "metadata": {},
      "execution_count": null,
      "outputs": []
    }
  ]
}