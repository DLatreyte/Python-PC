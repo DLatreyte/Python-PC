{
 "cells": [
  {
   "cell_type": "code",
   "execution_count": null,
   "id": "a2aa394f-654a-430a-8dcf-47e313d2a7e2",
   "metadata": {},
   "outputs": [],
   "source": [
    "import piplite\n",
    "await piplite.install('seaborn')"
   ]
  },
  {
   "cell_type": "markdown",
   "id": "adb6fae6-261c-4a8a-8d5f-dae7cc759769",
   "metadata": {},
   "source": [
    "# Détermination de la constante d'acidité de l'acide éthanoïque"
   ]
  },
  {
   "cell_type": "code",
   "execution_count": null,
   "id": "fb8bda67-8e8c-4ccb-9dde-16c6d0982e49",
   "metadata": {},
   "outputs": [],
   "source": [
    "import numpy as np\n",
    "from scipy.optimize import curve_fit\n",
    "from matplotlib import pyplot as plt\n",
    "import seaborn as sns"
   ]
  },
  {
   "cell_type": "markdown",
   "id": "8f892b70-f8df-405e-8bfb-3228afa7c7d8",
   "metadata": {},
   "source": [
    "## Variables du problème"
   ]
  },
  {
   "cell_type": "code",
   "execution_count": null,
   "id": "5756e934-a480-4bf3-a0b9-7a76bea7a3f5",
   "metadata": {},
   "outputs": [],
   "source": [
    "CA = ....  # mol/L\n",
    "CB = ....  # mol/L\n",
    "VA = [....]  # L\n",
    "VB = [....]  # L\n",
    "pH = [....]"
   ]
  },
  {
   "cell_type": "markdown",
   "id": "77e3f0d0-d378-4d79-a5d0-cd511e056964",
   "metadata": {},
   "source": [
    "## Détermination des valeurs de la variable x"
   ]
  },
  {
   "cell_type": "code",
   "execution_count": null,
   "id": "b33ef41a-0de0-46b2-914d-a1c15d2bbc43",
   "metadata": {},
   "outputs": [],
   "source": [
    "x = []\n",
    "for i in range(....):\n",
    "    ...."
   ]
  },
  {
   "cell_type": "markdown",
   "id": "8008eaa7-bb45-44a4-b071-467244a6a4c6",
   "metadata": {},
   "source": [
    "## Tracé de l'évolution du pH"
   ]
  },
  {
   "cell_type": "code",
   "execution_count": null,
   "id": "7cb3ecdc-92e1-4820-8c24-5ac305ac145b",
   "metadata": {},
   "outputs": [],
   "source": [
    "sns.set()\n",
    "plt.plot(...., ...., 'o')\n",
    "plt.xlabel(\"x\")\n",
    "plt.ylabel(\"pH\")\n",
    "plt.show()"
   ]
  },
  {
   "cell_type": "markdown",
   "id": "f0817049-0c88-464e-bdb0-8a476d34c84d",
   "metadata": {},
   "source": [
    "# Modélisation de l'évolution du pH"
   ]
  },
  {
   "cell_type": "code",
   "execution_count": null,
   "id": "bf6c47ae-4ee8-459e-a42a-5026add9e773",
   "metadata": {
    "tags": []
   },
   "outputs": [],
   "source": [
    "# Fonction modèle\n",
    "def modele(x, a, b):\n",
    "    ....\n",
    "\n",
    "# Détermination des paramètres optimaux\n",
    "popt, pcov = curve_fit(modele, x, pH)\n",
    "a_mod = popt[0]\n",
    "b_mod = popt[1]\n",
    "\n",
    "# Tracé\n",
    "x_mod = np.linspace(min(x), max(x), 100)\n",
    "y_mod = modele(x_mod, a_mod, b_mod)\n",
    "\n",
    "sns.set()\n",
    "plt.plot(...., ...., 'o')\n",
    "plt.plot(...., ....)\n",
    "plt.xlabel(\"x\")\n",
    "plt.ylabel(\"pH\")\n",
    "plt.show()\n",
    "\n",
    "print(\"a = {}, b = {}\".format(...., ....))"
   ]
  },
  {
   "cell_type": "code",
   "execution_count": null,
   "id": "3ff5d148-196e-4c56-82f9-687983ebeec9",
   "metadata": {},
   "outputs": [],
   "source": []
  }
 ],
 "metadata": {
  "kernelspec": {
   "display_name": "Python 3 (ipykernel)",
   "language": "python",
   "name": "python3"
  },
  "language_info": {
   "codemirror_mode": {
    "name": "ipython",
    "version": 3
   },
   "file_extension": ".py",
   "mimetype": "text/x-python",
   "name": "python",
   "nbconvert_exporter": "python",
   "pygments_lexer": "ipython3",
   "version": "3.9.7"
  }
 },
 "nbformat": 4,
 "nbformat_minor": 5
}
