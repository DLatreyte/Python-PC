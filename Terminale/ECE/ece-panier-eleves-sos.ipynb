{
 "cells": [
  {
   "cell_type": "code",
   "execution_count": null,
   "metadata": {},
   "outputs": [],
   "source": [
    "from matplotlib import pyplot as plt\n",
    "import seaborn as sns\n",
    "import numpy as np\n",
    "from scipy.optimize import curve_fit"
   ]
  },
  {
   "cell_type": "markdown",
   "metadata": {},
   "source": [
    "<center>\n",
    "<h1>Un panier à 100 000 euros</h1>\n",
    "</center>\n",
    "<hr />\n",
    "\n",
    "> Ce document permet la réalisation des différentes étapes du document « Un panier à 100 000 euros ».\n",
    "> Des éléments de code écrits en Python sont proposés afin de vous permettre de traiter les données. **Vous êtes libres d'utiliser ceux qui vous paraîtront pertinents**.\n",
    "\n",
    "## Partie expérimentale\n",
    "\n",
    "Quelques éléments pour exploiter la vidéo : \n",
    "\n",
    "- Charger la vidéo dans le logiciel [Mecachrono](https://www.eleves.online/MecaChrono/index.php?A=7&B=0&C=0&D=15&E=16&H=-1682993887&lang=fr).\n",
    "- Sélectionner « *Nombre d'images par seconde de la vidéo : 17* » et « *Nombre d'images entre deux échantillonnages : 1* ».\n",
    "- ... **Réaliser toutes les étapes nécessaires au pointage** ...\n",
    "- Sélectionner l'onglet « Tableau de valeurs » et exporter les données sous une forme directement exploitable sous Python.\n",
    "\n",
    "## Exploitation"
   ]
  },
  {
   "cell_type": "markdown",
   "metadata": {},
   "source": [
    "- Copie des listes contenant les dates $t$ et les valeurs des coordonnées $x$ et $y$."
   ]
  },
  {
   "cell_type": "code",
   "execution_count": null,
   "metadata": {},
   "outputs": [],
   "source": [
    "t = \n",
    "x = \n",
    "y = "
   ]
  },
  {
   "cell_type": "markdown",
   "metadata": {},
   "source": [
    "- Affichage éventuel de la trajectoire"
   ]
  },
  {
   "cell_type": "code",
   "execution_count": null,
   "metadata": {},
   "outputs": [],
   "source": [
    "sns.set()\n",
    "plt.figure(figsize=(8, 6), dpi=100)\n",
    "plt.plot(..... , ....., 'o')\n",
    "plt.xlabel(\"$x$ (s)\")\n",
    "plt.ylabel(\"$y$ (m)\")\n",
    "plt.show()"
   ]
  },
  {
   "cell_type": "markdown",
   "metadata": {},
   "source": [
    "- Affichage éventuel de $x(t)$."
   ]
  },
  {
   "cell_type": "code",
   "execution_count": null,
   "metadata": {},
   "outputs": [],
   "source": [
    "sns.set()\n",
    "plt.figure(figsize=(8, 6), dpi=100)\n",
    "plt.plot(..... , ....., 'o')\n",
    "plt.xlabel(\"$t$ (s)\")\n",
    "plt.ylabel(\"$x$ (m)\")\n",
    "plt.show()"
   ]
  },
  {
   "cell_type": "markdown",
   "metadata": {},
   "source": [
    "- Affichage éventuel de $y(t)$."
   ]
  },
  {
   "cell_type": "code",
   "execution_count": null,
   "metadata": {},
   "outputs": [],
   "source": [
    "sns.set()\n",
    "plt.figure(figsize=(8, 6), dpi=100)\n",
    "plt.plot(..... , ..... , 'o')\n",
    "plt.xlabel(\"$t$ (s)\")\n",
    "plt.ylabel(\"$y$ (m)\")\n",
    "plt.show()"
   ]
  },
  {
   "cell_type": "markdown",
   "metadata": {},
   "source": [
    "- Si nécessité d'effectuer une modélisation, compléter le code des fonctions `modele_x` et `modele_y` suivantes en fonction du comportement global des fonctions $x(t)$ et $y(t)$ constaté lors des questions précédentes."
   ]
  },
  {
   "cell_type": "code",
   "execution_count": 72,
   "metadata": {},
   "outputs": [],
   "source": [
    "# Nouvelles dates pour l'affichage des grandeurs modélisées\n",
    "t_mod = np.linspace(min(t), max(t), 101)\n",
    "\n",
    "# Fonction modèle pour le comportement de x en fonction de t\n",
    "def modele_x(x, a, b):\n",
    "    return .....\n",
    "\n",
    "# Fonction modèle pour le comportement de y en fonction de t\n",
    "def modele_y(x, a, b, c):\n",
    "    return .....\n",
    "\n",
    "# Détermination des paramètres optimaux pour x en fonction de t\n",
    "popt, pcov = curve_fit(modele_x, t, x)\n",
    "a_xmod = popt[0]\n",
    "b_xmod = popt[1]\n",
    "\n",
    "# Détermination des paramètres optimaux pour y en fonction de t\n",
    "popt, pcov = curve_fit(modele_y, t, y)\n",
    "a_ymod = popt[0]\n",
    "b_ymod = popt[1]\n",
    "c_ymod = popt[2]\n",
    "\n",
    "# Valeurs de x modélisées\n",
    "x_mod = modele_x(t_mod, a_xmod, b_xmod)\n",
    "\n",
    "# Valeurs de y modélisées\n",
    "y_mod = modele_y(t_mod, a_ymod, b_ymod, c_ymod)"
   ]
  },
  {
   "cell_type": "markdown",
   "metadata": {},
   "source": [
    "- Affichage éventuel des grandeurs $x(t)$, $y(t)$, $x_{mod}(t_{mod})$ et $z_{mod}(t_{mod})$ afin de vérifier la pertinence de la modélisation."
   ]
  },
  {
   "cell_type": "code",
   "execution_count": null,
   "metadata": {},
   "outputs": [],
   "source": [
    "sns.set()\n",
    "plt.figure(figsize=(8, 6), dpi=100)\n",
    "plt.plot(t, x, 'o', label=\"$x$\", color=\"green\")\n",
    "plt.plot(t, y, 'o', label=\"$y$\", color=\"orange\")\n",
    "plt.plot(t_mod, x_mod, '-', label=\"$x_{mod}$\", color=\"green\")\n",
    "plt.plot(t_mod, y_mod, '-', label=\"$y_{mod}$\", color=\"orange\")\n",
    "plt.xlabel(\"$t$ (s)\")\n",
    "plt.legend()\n",
    "plt.show()"
   ]
  },
  {
   "cell_type": "markdown",
   "metadata": {},
   "source": [
    "- Paramètres de la modélisation pour $x(t)$ :"
   ]
  },
  {
   "cell_type": "code",
   "execution_count": null,
   "metadata": {},
   "outputs": [],
   "source": [
    "print(f\"a: {a_xmod}\")\n",
    "print(f\"b : {b_xmod}\")"
   ]
  },
  {
   "cell_type": "markdown",
   "metadata": {},
   "source": [
    "- Paramètres de la modélisation pour $y(t)$ :"
   ]
  },
  {
   "cell_type": "code",
   "execution_count": null,
   "metadata": {},
   "outputs": [],
   "source": [
    "print(f\"a: {a_ymod}\")\n",
    "print(f\"b : {b_ymod}\")\n",
    "print(f\"c : {c_ymod}\")"
   ]
  }
 ],
 "metadata": {
  "interpreter": {
   "hash": "140daeb0614e363086690a9bdb8e96ae6082eb9e92f55d33b86d544a8a58f997"
  },
  "kernelspec": {
   "display_name": "Python 3 (ipykernel)",
   "language": "python",
   "name": "python3"
  },
  "language_info": {
   "codemirror_mode": {
    "name": "ipython",
    "version": 3
   },
   "file_extension": ".py",
   "mimetype": "text/x-python",
   "name": "python",
   "nbconvert_exporter": "python",
   "pygments_lexer": "ipython3",
   "version": "3.9.7"
  }
 },
 "nbformat": 4,
 "nbformat_minor": 4
}
