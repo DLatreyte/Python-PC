{
 "cells": [
  {
   "cell_type": "code",
   "execution_count": null,
   "metadata": {},
   "outputs": [],
   "source": [
    "#import piplite\n",
    "#await piplite.install('seaborn')\n",
    "\n",
    "from matplotlib import pyplot as plt\n",
    "import seaborn as sns\n",
    "import numpy as np\n",
    "from scipy.optimize import curve_fit"
   ]
  },
  {
   "cell_type": "markdown",
   "metadata": {},
   "source": [
    "<center>\n",
    "<h1>Un panier à 100 000 euros</h1>\n",
    "</center>\n",
    "\n",
    "> Ce document permet la réalisation des différentes étapes du document « Un panier à 100 000 euros ».\n",
    "> Des éléments de code écrits en Python sont proposés afin de vous permettre de traiter les données. **Vous êtes libres d'utiliser ceux qui vous paraîtront pertinents**.\n",
    "\n",
    "## Partie expérimentale\n",
    "\n",
    "Quelques éléments pour exploiter la vidéo : \n",
    "\n",
    "- Charger la vidéo dans le logiciel [Mecachrono](https://www.eleves.online/MecaChrono/index.php?A=7&B=0&C=0&D=15&E=16&H=-1682993887&lang=fr).\n",
    "- Sélectionner « *Nombre d'images par seconde de la vidéo : 17* » et « *Nombre d'images entre deux échantillonnages : 1* ».\n",
    "- ... **Réaliser toutes les étapes nécessaires au pointage** ...\n",
    "- Sélectionner l'onglet « Tableau de valeurs » et exporter les données sous une forme directement exploitable sous Python.\n",
    "\n",
    "## Exploitation"
   ]
  },
  {
   "cell_type": "markdown",
   "metadata": {},
   "source": [
    "- Copie des listes contenant les dates $t$ et les valeurs des coordonnées $x$ et $y$."
   ]
  },
  {
   "cell_type": "code",
   "execution_count": null,
   "metadata": {},
   "outputs": [],
   "source": [
    "t = [ 0, 0.0588235, 0.117647, 0.176471, 0.235294, 0.294118, 0.352941, 0.411764, 0.470588, 0.529412, 0.588235, 0.647058, 0.705882, 0.764705, 0.823529, 0.882352, 0.941176, 1, 1.05882, 1.11765, 1.17647, 1.23529, 1.29412, 1.35294, 1.41176, 1.47059, 1.52941, 1.58823, 1.64706]\n",
    "x = [3.19602, 3.5283, 3.94803, 4.4377, 4.94487, 5.15473, 5.57446, 6.13409, 6.60628, 6.85112, 7.35829, 7.83048, 8.32016, 8.58249, 9.07217, 9.57933, 10.0515, 10.5412, 10.786, 11.1533, 11.5905, 12.0627, 12.3775, 12.7448, 13.2519, 13.6716, 13.899, 14.2837, 14.5811]\n",
    "y = [5.33838, 5.72313, 6.21281, 6.66751, 7.06975, 7.24463, 7.52445, 7.9092, 8.15404, 8.25897, 8.48632, 8.62623, 8.73116, 8.76613, 8.83609, 8.85358, 8.83609, 8.74865, 8.71367, 8.59125, 8.39888, 8.15404, 8.01413, 7.76929, 7.34956, 7.06975, 6.78993, 6.42267, 6.03792]"
   ]
  },
  {
   "cell_type": "markdown",
   "metadata": {},
   "source": [
    "- Affichage éventuel de la trajectoire"
   ]
  },
  {
   "cell_type": "code",
   "execution_count": null,
   "metadata": {},
   "outputs": [],
   "source": [
    "sns.set()\n",
    "plt.figure(figsize=(8, 6), dpi=100)\n",
    "plt.plot(x, y, 'o')\n",
    "plt.xlabel(\"$x$ (s)\")\n",
    "plt.ylabel(\"$y$ (m)\")\n",
    "plt.show()"
   ]
  },
  {
   "cell_type": "markdown",
   "metadata": {},
   "source": [
    "- Affichage éventuel de $x(t)$."
   ]
  },
  {
   "cell_type": "code",
   "execution_count": null,
   "metadata": {},
   "outputs": [],
   "source": [
    "sns.set()\n",
    "plt.figure(figsize=(8, 6), dpi=100)\n",
    "plt.plot(t, x, 'o')\n",
    "plt.xlabel(\"$t$ (s)\")\n",
    "plt.ylabel(\"$x$ (m)\")\n",
    "plt.show()"
   ]
  },
  {
   "cell_type": "markdown",
   "metadata": {},
   "source": [
    "- Affichage éventuel de $y(t)$."
   ]
  },
  {
   "cell_type": "code",
   "execution_count": null,
   "metadata": {},
   "outputs": [],
   "source": [
    "sns.set()\n",
    "plt.figure(figsize=(8, 6), dpi=100)\n",
    "plt.plot(t, y, 'o')\n",
    "plt.xlabel(\"$t$ (s)\")\n",
    "plt.ylabel(\"$y$ (m)\")\n",
    "plt.show()"
   ]
  },
  {
   "cell_type": "markdown",
   "metadata": {},
   "source": [
    "- Si nécessité d'effectuer une modélisation, compléter le code des fonctions `modele_x` et `modele_y` suivantes en fonction du comportement global des fonctions $x(t)$ et $y(t)$ constaté lors des questions précédentes."
   ]
  },
  {
   "cell_type": "code",
   "execution_count": null,
   "metadata": {},
   "outputs": [],
   "source": [
    "# Nouvelles dates pour l'affichage des grandeurs modélisées\n",
    "t_mod = np.linspace(min(t), max(t), 101)\n",
    "\n",
    "# Fonction modèle pour le comportement de x en fonction de t\n",
    "def modele_x(x, a, b):\n",
    "    return a * x + b\n",
    "\n",
    "# Fonction modèle pour le comportement de y en fonction de t\n",
    "def modele_y(x, a, b, c):\n",
    "    return a * x**2 + b * x + c\n",
    "\n",
    "# Détermination des paramètres optimaux pour x en fonction de t\n",
    "popt, pcov = curve_fit(modele_x, t, x)\n",
    "a_xmod = popt[0]\n",
    "b_xmod = popt[1]\n",
    "\n",
    "# Détermination des paramètres optimaux pour y en fonction de t\n",
    "popt, pcov = curve_fit(modele_y, t, y)\n",
    "a_ymod = popt[0]\n",
    "b_ymod = popt[1]\n",
    "c_ymod = popt[2]\n",
    "\n",
    "# Valeurs de x modélisées\n",
    "x_mod = modele_x(t_mod, a_xmod, b_xmod)\n",
    "\n",
    "# Valeurs de y modélisées\n",
    "y_mod = modele_y(t_mod, a_ymod, b_ymod, c_ymod)"
   ]
  },
  {
   "cell_type": "markdown",
   "metadata": {},
   "source": [
    "- Affichage éventuel des grandeurs $x(t)$, $y(t)$, $x_{mod}(t_{mod})$ et $z_{mod}(t_{mod})$ afin de vérifier la pertinence de la modélisation."
   ]
  },
  {
   "cell_type": "code",
   "execution_count": null,
   "metadata": {},
   "outputs": [],
   "source": [
    "sns.set()\n",
    "plt.figure(figsize=(8, 6), dpi=100)\n",
    "plt.plot(t, x, 'o', label=\"$x$\", color=\"green\")\n",
    "plt.plot(t, y, 'o', label=\"$y$\", color=\"orange\")\n",
    "plt.plot(t_mod, x_mod, '-', label=\"$x_{mod}$\", color=\"green\")\n",
    "plt.plot(t_mod, y_mod, '-', label=\"$y_{mod}$\", color=\"orange\")\n",
    "plt.xlabel(\"$t$ (s)\")\n",
    "plt.legend()\n",
    "plt.show()"
   ]
  },
  {
   "cell_type": "markdown",
   "metadata": {},
   "source": [
    "- Paramètres de la modélisation pour $x(t)$ :"
   ]
  },
  {
   "cell_type": "code",
   "execution_count": null,
   "metadata": {},
   "outputs": [],
   "source": [
    "print(f\"a: {a_xmod}\")\n",
    "print(f\"b : {b_xmod}\")"
   ]
  },
  {
   "cell_type": "markdown",
   "metadata": {},
   "source": [
    "- Paramètres de la modélisation pour $y(t)$ :"
   ]
  },
  {
   "cell_type": "code",
   "execution_count": null,
   "metadata": {},
   "outputs": [],
   "source": [
    "print(f\"a: {a_ymod}\")\n",
    "print(f\"b : {b_ymod}\")\n",
    "print(f\"c : {c_ymod}\")"
   ]
  },
  {
   "cell_type": "markdown",
   "metadata": {},
   "source": [
    "## Résultats"
   ]
  },
  {
   "cell_type": "markdown",
   "metadata": {},
   "source": [
    "- Valeur de $v_0$ :"
   ]
  },
  {
   "cell_type": "code",
   "execution_count": null,
   "metadata": {},
   "outputs": [],
   "source": [
    "np.sqrt(8.124838456808858**2 + 7.078205131456414**2)"
   ]
  },
  {
   "cell_type": "markdown",
   "metadata": {},
   "source": [
    "- Valeur de $\\theta$ :"
   ]
  },
  {
   "cell_type": "code",
   "execution_count": null,
   "metadata": {},
   "outputs": [],
   "source": [
    "np.arccos(7.078205131456414 / 10.775620067180174) / np.pi * 180"
   ]
  }
 ],
 "metadata": {
  "interpreter": {
   "hash": "140daeb0614e363086690a9bdb8e96ae6082eb9e92f55d33b86d544a8a58f997"
  },
  "kernelspec": {
   "display_name": "Python 3 (ipykernel)",
   "language": "python",
   "name": "python3"
  },
  "language_info": {
   "codemirror_mode": {
    "name": "ipython",
    "version": 3
   },
   "file_extension": ".py",
   "mimetype": "text/x-python",
   "name": "python",
   "nbconvert_exporter": "python",
   "pygments_lexer": "ipython3",
   "version": "3.9.7"
  }
 },
 "nbformat": 4,
 "nbformat_minor": 4
}
