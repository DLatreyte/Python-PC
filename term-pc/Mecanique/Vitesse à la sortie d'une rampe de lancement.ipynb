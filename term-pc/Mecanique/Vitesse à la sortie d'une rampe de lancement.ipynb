{
 "cells": [
  {
   "cell_type": "code",
   "execution_count": null,
   "metadata": {},
   "outputs": [],
   "source": [
    "from matplotlib import pyplot as plt\n",
    "import numpy as np\n",
    "import seaborn\n",
    "from scipy import curve_fit"
   ]
  },
  {
   "cell_type": "markdown",
   "metadata": {},
   "source": [
    "#### Objectif\n",
    "\n",
    "> Détermination de la vitesse de la bille à la sortie de la rampe.     \n",
    ">      \n",
    "> *Trois méthodes :*\n",
    "> - Détermination des valeurs de toutes les vitesses après un pointage.\n",
    "> - Utilisation des caractéristiques de la chute libre.\n",
    "> - Utilisation de la conservation de l'énergie mécanique (plusieurs modèles seront nécessaires ici)."
   ]
  },
  {
   "cell_type": "markdown",
   "metadata": {},
   "source": []
  },
  {
   "cell_type": "markdown",
   "metadata": {},
   "source": [
    "### Notes personnelles\n",
    "\n",
    "Repérer l'image dans laquelle la bille quitte la rampe.\n",
    "Origine du repère : position de la balle lorsqu'elle quitte la rampe.\n",
    "\n",
    "#### Parabolique\n",
    "- Redéfinir la date 0 par le calcul.\n",
    "- Distance horizontale parcourue : $D = v_0 t$\n",
    "- Distance verticale parcourue : $H = \\dfrac{g\\;T^2}{2}$\n",
    "- Expression de $v_0$ : $v_0 = D\\sqrt{ \\dfrac{ g }{ 2H } }$\n",
    "\n",
    "Résultats expérimentaux : $D = 21,7\\ \\text{cm}$ et $H = 24,6\\ \\text{cm}$\n",
    "\n",
    "#### Rampe\n",
    "\n"
   ]
  },
  {
   "cell_type": "markdown",
   "metadata": {},
   "source": []
  }
 ],
 "metadata": {
  "language_info": {
   "name": "python"
  },
  "orig_nbformat": 4
 },
 "nbformat": 4,
 "nbformat_minor": 2
}
