{
 "cells": [
  {
   "cell_type": "markdown",
   "metadata": {},
   "source": [
    "Test de fonctionnement\n",
    "===================\n",
    "\n",
    "On essait diverses choses $E_0 = m \\cdot c^2$ ou $$E_0 = m \\cdot c^2$$\n",
    "\n",
    "Sous-titre super\n",
    "-------------------\n",
    "\n",
    "Une liste :\n",
    "\n",
    "- slf\n",
    "- jdlds\n",
    "- kqklsq\n",
    "\n",
    "1. klsklskls\n",
    "2. slksklsk\n",
    "3. dlsdklslk\n",
    "\n",
    "Du code :\n",
    "~~~~~~~~~\n",
    "```python\n",
    "def f(x):\n",
    "    return x\n",
    "```\n",
    "~~~~~~~~~\n"
   ]
  },
  {
   "cell_type": "code",
   "execution_count": null,
   "metadata": {},
   "outputs": [],
   "source": []
  },
  {
   "cell_type": "code",
   "execution_count": null,
   "metadata": {},
   "outputs": [],
   "source": []
  }
 ],
 "metadata": {
  "kernelspec": {
   "display_name": "Python 3",
   "language": "python",
   "name": "python3"
  },
  "language_info": {
   "codemirror_mode": {
    "name": "ipython",
    "version": 3
   },
   "file_extension": ".py",
   "mimetype": "text/x-python",
   "name": "python",
   "nbconvert_exporter": "python",
   "pygments_lexer": "ipython3",
   "version": "3.7.4"
  }
 },
 "nbformat": 4,
 "nbformat_minor": 2
}
