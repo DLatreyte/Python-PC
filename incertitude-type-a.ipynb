{
 "cells": [
  {
   "cell_type": "code",
   "execution_count": null,
   "metadata": {},
   "outputs": [],
   "source": [
    "import numpy as np"
   ]
  },
  {
   "cell_type": "markdown",
   "metadata": {},
   "source": [
    "<center>\n",
    "<h1>Détermination pratique de l'incertitude d'un mesurage de type A\n",
    "</center>\n",
    "\n",
    "> Les valeurs du coefficient de Student (coefficient d'élargissement) sont accessible à [cette adresse](https://dlatreyte.github.io/terminales-pc/chap-0/coefficients-student/)."
   ]
  },
  {
   "cell_type": "markdown",
   "metadata": {},
   "source": [
    "1. Valeurs expérimentales :"
   ]
  },
  {
   "cell_type": "code",
   "execution_count": null,
   "metadata": {},
   "outputs": [],
   "source": [
    "valeurs = [................]\n",
    "valeurs = np.array(valeurs)"
   ]
  },
  {
   "cell_type": "markdown",
   "metadata": {},
   "source": [
    "2. Calcul de la valeur moyenne"
   ]
  },
  {
   "cell_type": "code",
   "execution_count": null,
   "metadata": {},
   "outputs": [],
   "source": [
    "moyenne = np.mean(valeurs)\n",
    "print(f\"La valeur moyenne de l'échantillon est : {moyenne}\")"
   ]
  },
  {
   "cell_type": "markdown",
   "metadata": {},
   "source": [
    "3. Détermination de l'incertitude.\n",
    "\n",
    "Indiquer les valeurs des coefficients de Student."
   ]
  },
  {
   "cell_type": "code",
   "execution_count": null,
   "metadata": {},
   "outputs": [],
   "source": [
    "k99 = ............\n",
    "k95 = ............\n",
    "\n",
    "nbre_val = len(valeurs)\n",
    "\n",
    "somme = 0\n",
    "for valeur in valeurs:\n",
    "    somme = somme + (valeur - moyenne)**2\n",
    "sigma = np.sqrt(somme / (len(valeurs) - 1))\n",
    "\n",
    "U99 = k99 * sigma / np.sqrt(nbre_val)\n",
    "U95 = k95 * sigma / np.sqrt(nbre_val)\n",
    "\n",
    "print(f\"Incertitude à 95 %: {U95}\")\n",
    "print(f\"Incertitude à 99 %: {U99}\")"
   ]
  }
 ],
 "metadata": {
  "interpreter": {
   "hash": "140daeb0614e363086690a9bdb8e96ae6082eb9e92f55d33b86d544a8a58f997"
  },
  "kernelspec": {
   "display_name": "Python 3.9.7 ('base')",
   "language": "python",
   "name": "python3"
  },
  "language_info": {
   "codemirror_mode": {
    "name": "ipython",
    "version": 3
   },
   "file_extension": ".py",
   "mimetype": "text/x-python",
   "name": "python",
   "nbconvert_exporter": "python",
   "pygments_lexer": "ipython3",
   "version": "3.9.7"
  },
  "orig_nbformat": 4
 },
 "nbformat": 4,
 "nbformat_minor": 2
}
