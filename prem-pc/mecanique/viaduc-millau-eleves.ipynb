{
 "cells": [
  {
   "cell_type": "code",
   "execution_count": null,
   "metadata": {},
   "outputs": [],
   "source": [
    "import piplite\n",
    "await piplite.install('seaborn')\n",
    "\n",
    "from matplotlib import pyplot as plt\n",
    "import seaborn as sns"
   ]
  },
  {
   "cell_type": "markdown",
   "metadata": {},
   "source": [
    "<center>\n",
    "<h1> Viaduc de Millau </h1>\n",
    "</center>\n",
    "\n",
    "On lance **horizontalement** une pierre dense et de petit volume du haut du viaduc de Millau, en France. La chute est filmée à l’aide d’une caméra. À l’aide d’un logiciel de pointage on obtient les valeurs de l’altitude et la distance parcourue horizontalement par l’objet au cours du temps.\n",
    "\n",
    "> L'objectif de cette séance est d'étudier le mouvement de la pierre."
   ]
  },
  {
   "cell_type": "code",
   "execution_count": null,
   "metadata": {},
   "outputs": [],
   "source": [
    "t = [0, 1, 2, 3, 4, 5, 6, 7, 8]  # dates\n",
    "z = [343, 338, 323, 299, 265, 220, 166, 103, 29]  # altitudes en m\n",
    "x = [0, 10, 20, 30, 40, 50, 60, 70, 80]  # distance horizontale parcourue en m"
   ]
  },
  {
   "cell_type": "markdown",
   "metadata": {},
   "source": [
    "1. Quelle est la hauteur du parapet du pont de Millau ?"
   ]
  },
  {
   "cell_type": "markdown",
   "metadata": {},
   "source": [
    "2. En utilisant une approximation du calcul numérique d'une vitesse, calculer la valeur de la vitesse horizontale avec laquelle la pierre a été lancée."
   ]
  },
  {
   "cell_type": "code",
   "execution_count": null,
   "metadata": {},
   "outputs": [],
   "source": [
    "v0 = (........)\n",
    "print(f\"Valeur de la vitesse horizontale initiale : {v0} m/s.\")"
   ]
  },
  {
   "cell_type": "markdown",
   "metadata": {},
   "source": [
    "On souhaite visualiser la trajectoire.\n",
    "\n",
    "3. Rappeler la définition de la trajectoire."
   ]
  },
  {
   "cell_type": "markdown",
   "metadata": {},
   "source": [
    "4. Compléter le code suivant afin d'afficher cette trajectoire.    \n",
    "Quelle est la courbe mathématique obtenue ?"
   ]
  },
  {
   "cell_type": "code",
   "execution_count": null,
   "metadata": {},
   "outputs": [],
   "source": [
    "sns.set()\n",
    "plt.figure(figsize=(8, 6), dpi=100)\n",
    "plt.plot(........, ........, 'o', label=\"$z$ (m)\")\n",
    "plt.xlabel(\"x (m)\")\n",
    "plt.legend()\n",
    "plt.show()"
   ]
  },
  {
   "cell_type": "markdown",
   "metadata": {},
   "source": [
    "5. On souhaite maintenant visualiser indépendamment l'évolution du mouvement horizontal et du mouvement vertical.    \n",
    "Compléter le code afin d'afficher l'évolution $x=f(t)$."
   ]
  },
  {
   "cell_type": "code",
   "execution_count": null,
   "metadata": {},
   "outputs": [],
   "source": [
    "sns.set()\n",
    "plt.figure(figsize=(8, 6), dpi=100)\n",
    "plt.plot(........, ........, 'o', label=\"$x$ (m)\")\n",
    "plt.xlabel(\"t (s)\")\n",
    "plt.legend()\n",
    "plt.show()"
   ]
  },
  {
   "cell_type": "markdown",
   "metadata": {},
   "source": [
    "6. Le mouvement horizontal est-il : uniforme ? accéléré ? nul ?"
   ]
  },
  {
   "cell_type": "markdown",
   "metadata": {},
   "source": [
    "7. Compléter le code afin d'afficher l'évolution $z=f(t)$."
   ]
  },
  {
   "cell_type": "code",
   "execution_count": null,
   "metadata": {},
   "outputs": [],
   "source": [
    "sns.set()\n",
    "plt.figure(figsize=(8, 6), dpi=100)\n",
    "plt.plot(........, ........, 'o', label=\"$z$ (m)\")\n",
    "plt.xlabel(\"t (s)\")\n",
    "plt.legend()\n",
    "plt.show()"
   ]
  },
  {
   "cell_type": "markdown",
   "metadata": {},
   "source": []
  },
  {
   "cell_type": "markdown",
   "metadata": {},
   "source": [
    "8. Le mouvement vertical est-il : uniforme ? accéléré ? nul ?"
   ]
  },
  {
   "cell_type": "markdown",
   "metadata": {},
   "source": [
    "Afin de confirmer les conclusions aux questions 6. et 8. on souhaite déterminer l'évolution des composantes $v_x$ et $v_y$ du vecteur vitesse au cours du temps.\n",
    "\n",
    "9. Compléter le code suivant qui réalise le calcul de ces composantes.    \n",
    "Répondre aux questions posées."
   ]
  },
  {
   "cell_type": "code",
   "execution_count": null,
   "metadata": {},
   "outputs": [],
   "source": [
    "vx = [0] * len(x)  # Que fait-on ?\n",
    "vx[0] = 10         # Pourquoi ?\n",
    "\n",
    "for i in range(1, len(t) - 1):  #  Pourquoi cet intervalle ?\n",
    "    vx[i] = (........) / (........)\n",
    "    vz[i] = ........"
   ]
  },
  {
   "cell_type": "markdown",
   "metadata": {},
   "source": [
    "10. Afficher l'évolution de la composante horizontale de la vitesse au cours du temps ($v_x = f(t)$).   \n",
    "La réponse à la question 6. est-elle confirmée ?"
   ]
  },
  {
   "cell_type": "code",
   "execution_count": null,
   "metadata": {},
   "outputs": [],
   "source": [
    "sns.set()\n",
    "plt.figure(figsize=(8, 6), dpi=100)\n",
    "plt.plot(........[1: -1], ........[1: -1], 'o', label=\"$v_x$ (m)\")\n",
    "plt.xlabel(\"t (s)\")\n",
    "plt.legend()\n",
    "plt.show()"
   ]
  },
  {
   "cell_type": "markdown",
   "metadata": {},
   "source": [
    "11. Afficher l'évolution de la composante verticale de la vitesse au cours du temps ($v_z = f(t)$).   \n",
    "La réponse à la question 8. est-elle confirmée ?"
   ]
  },
  {
   "cell_type": "code",
   "execution_count": null,
   "metadata": {},
   "outputs": [],
   "source": [
    "sns.set()\n",
    "plt.figure(figsize=(8, 6), dpi=100)\n",
    "plt.plot(........[1: -1], ........[1 : -1], 'o', label=\"$v_z$ (m)\")\n",
    "plt.xlabel(\"t (s)\")\n",
    "plt.legend()\n",
    "plt.show()"
   ]
  },
  {
   "cell_type": "markdown",
   "metadata": {},
   "source": [
    "12. Pourquoi $v_z$ est-elle négative ?"
   ]
  },
  {
   "cell_type": "markdown",
   "metadata": {},
   "source": [
    "13. On souhaite calculer les valeurs de la valeur de la vitesse au cours du temps.    \n",
    "Compléter le code suivant. Répondre aux questions posées."
   ]
  },
  {
   "cell_type": "code",
   "execution_count": null,
   "metadata": {},
   "outputs": [],
   "source": [
    "from math import sqrt  # Que fait-on ?\n",
    "v = [0] * len(vx)      # Que fait-on ?\n",
    "\n",
    "for i in range(1, len(vx) - 1):  # Pourquoi cet intervalle ?\n",
    "    v[i] = ........"
   ]
  },
  {
   "cell_type": "markdown",
   "metadata": {},
   "source": [
    "14. Afficher l'évolution de la valeur de la vitesse au cours du temps."
   ]
  },
  {
   "cell_type": "code",
   "execution_count": null,
   "metadata": {},
   "outputs": [],
   "source": [
    "sns.set()\n",
    "plt.figure(figsize=(8, 6), dpi=100)\n",
    "plt.plot(........[1: -1], ........[1: -1], 'o', label=\"$v$ (m)\")\n",
    "plt.xlabel(\"t (s)\")\n",
    "plt.legend()\n",
    "plt.show()"
   ]
  }
 ],
 "metadata": {
  "interpreter": {
   "hash": "140daeb0614e363086690a9bdb8e96ae6082eb9e92f55d33b86d544a8a58f997"
  },
  "kernelspec": {
   "display_name": "Python 3.9.7 ('base')",
   "language": "python",
   "name": "python3"
  },
  "language_info": {
   "codemirror_mode": {
    "name": "ipython",
    "version": 3
   },
   "file_extension": ".py",
   "mimetype": "text/x-python",
   "name": "python",
   "nbconvert_exporter": "python",
   "pygments_lexer": "ipython3",
   "version": "3.9.7"
  },
  "orig_nbformat": 4
 },
 "nbformat": 4,
 "nbformat_minor": 2
}
