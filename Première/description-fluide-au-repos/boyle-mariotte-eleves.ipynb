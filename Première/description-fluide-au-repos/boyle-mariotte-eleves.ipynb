{
  "cells": [
    {
      "cell_type": "code",
      "execution_count": null,
      "metadata": {
        "trusted": true
      },
      "outputs": [],
      "source": [
        "import piplite\n",
        "await piplite.install('seaborn')\n",
        "\n",
        "from matplotlib import pyplot as plt\n",
        "from scipy.optimize import curve_fit\n",
        "import numpy as np\n",
        "import seaborn as sns"
      ]
    },
    {
      "cell_type": "markdown",
      "metadata": {
        "tags": []
      },
      "source": [
        "<center>\n",
        "    <h1> Loi de Boyle-Mariotte </h1>\n",
        "    <hr />\n",
        "</center>\n",
        "\n",
        "À la fin du document Chap. 9,1, on a précisé que pour **décrire l'état d'un gaz au niveau macroscopique**, il est nécessaire de prendre en compte les paramètres **volume**, **pression**, **température** et **quantité de matière**, et que ces quatre paramètres ne sont pas indépendant les uns des des autres.\n",
        "\n",
        "> L'objectif de cette séance est de *mettre en évidence la relation qui existe entre la pression au sein d'un gaz et son volume, la température et la quantité de matière restant constantes*. Cette relation porte le nom de **loi de Boyle-Mariotte**."
      ]
    },
    {
      "cell_type": "markdown",
      "metadata": {
        "tags": []
      },
      "source": [
        "## Travail à réaliser \n",
        "\n",
        "- Choisir pour la seringue à disposition le volume le plus grand possible.\n",
        "- Connecter la seringue au pressiomètre.\n",
        "- Relever les valeurs des pressions pour les volumes ci-dessous et compléter le tableau :\n",
        "\n",
        "| Volume (cm³) | 60 | 55 | 50 | 45 | 40 | 35 | 30 |\n",
        "| :--: | :--: | :--: | :--: | :--: | :--: | :--: | :--: |\n",
        "| Pression (hPa) | ... | ... | ... | ... | ... | ... | ... |"
      ]
    },
    {
      "cell_type": "markdown",
      "metadata": {},
      "source": [
        "### Préparation des variables du problème\n",
        "\n",
        "1. Compléter les instructions suivantes :"
      ]
    },
    {
      "cell_type": "code",
      "execution_count": null,
      "metadata": {
        "trusted": true
      },
      "outputs": [],
      "source": [
        "V = [....]  # cm³\n",
        "P = [....]  # hPa"
      ]
    },
    {
      "cell_type": "markdown",
      "metadata": {},
      "source": [
        "2. Convertir les volumes en m³"
      ]
    },
    {
      "cell_type": "code",
      "execution_count": null,
      "metadata": {
        "trusted": true
      },
      "outputs": [],
      "source": [
        "for i in range(len(V)):\n",
        "    V[i] = ...."
      ]
    },
    {
      "cell_type": "markdown",
      "metadata": {},
      "source": [
        "3. De la même façon, convertir les pressions en Pa (pascal)."
      ]
    },
    {
      "cell_type": "code",
      "execution_count": null,
      "metadata": {
        "trusted": true
      },
      "outputs": [],
      "source": [
        ".... :\n",
        "    ...."
      ]
    },
    {
      "cell_type": "markdown",
      "metadata": {},
      "source": [
        "### Évolution de la pression en fonction du volume"
      ]
    },
    {
      "cell_type": "markdown",
      "metadata": {},
      "source": [
        "4. Compléter les instructions suivantes de façon à afficher l'évolution de la pression lorsque le volume varie."
      ]
    },
    {
      "cell_type": "code",
      "execution_count": null,
      "metadata": {
        "trusted": true
      },
      "outputs": [],
      "source": [
        "sns.set()\n",
        "plt.figure(figsize=(8, 6), dpi=100)\n",
        "plt.plot(...., ...., 'o', label=\"Pression (Pa)\")\n",
        "plt.xlabel(r\"$V\\ (\\mathrm{m}^3)$\")\n",
        "plt.ylim(50000, 250000)\n",
        "plt.xlim(1e-5, 8e-5)\n",
        "plt.legend()\n",
        "plt.show()"
      ]
    },
    {
      "cell_type": "markdown",
      "metadata": {},
      "source": [
        "5. La relation entre $P$ et $V$ semble-t-elle linéaire ?\n",
        "\n",
        "6. La variable `invV` doit référencer une liste dont les valeurs sont les inverses des valeurs de la liste référencée par la variable `V`. Écrire le code qui réalise cette opération."
      ]
    },
    {
      "cell_type": "code",
      "execution_count": null,
      "metadata": {
        "trusted": true
      },
      "outputs": [],
      "source": [
        "invV = []\n",
        "for elt in V:\n",
        "    ...."
      ]
    },
    {
      "cell_type": "markdown",
      "metadata": {},
      "source": [
        "7. Compléter les instructions suivantes de façon à afficher l'évolution de la pression P en focntion de `invV`."
      ]
    },
    {
      "cell_type": "code",
      "execution_count": null,
      "metadata": {
        "trusted": true
      },
      "outputs": [],
      "source": [
        "sns.set()\n",
        "plt.figure(figsize=(8, 6), dpi=100)\n",
        "plt.plot(...., ...., 'o', label=\"Pression (Pa)\")\n",
        "plt.xlabel(r\"$1/V\\ (\\mathrm{m}^{-3})$\")\n",
        "plt.legend()\n",
        "plt.show()"
      ]
    },
    {
      "cell_type": "markdown",
      "metadata": {},
      "source": [
        "8. La relation est-elle cette fois linéaire ?"
      ]
    },
    {
      "cell_type": "markdown",
      "metadata": {},
      "source": [
        "### Modélisation du comportement de $P$ en fonction de l'inverse du volume\n",
        "\n",
        "On effectue dans cette partie une modélisation, en postulant que la relation qui existe entre $P$ et $\\dfrac{1}{V}$ est une relation de linéarité.\n",
        "\n",
        "9. Compléter le code de la fonction `modele` de façon à ce qu'elle traduise le comportement recherché.    \n",
        "Compléter aussi le code des deux instructions qui réalisent le tracé."
      ]
    },
    {
      "cell_type": "code",
      "execution_count": null,
      "metadata": {
        "trusted": true
      },
      "outputs": [],
      "source": [
        "# Fonction modèle\n",
        "def modele(x, a):\n",
        "    ....\n",
        "\n",
        "# Détermination des paramètres optimaux\n",
        "popt, pcov = curve_fit(modele, invV, P)\n",
        "a_mod = popt[0]\n",
        "\n",
        "# Préparation du tracé\n",
        "invV_mod = np.linspace(min(invV), max(invV), 50)\n",
        "P_mod = modele(invV_mod, a_mod)\n",
        "\n",
        "# Tracé\n",
        "sns.set()\n",
        "plt.figure(figsize=(8, 6), dpi=100)\n",
        "plt.plot(...., ...., 'o', label=\"Pression (Pa)\")\n",
        "plt.plot(...., ...., '-', label=\"Pression (Pa) modélisée\")\n",
        "plt.xlabel(r\"$1/V\\ (\\mathrm{m}^{-3})$\")\n",
        "plt.legend()\n",
        "plt.show()\n",
        "print(popt)"
      ]
    },
    {
      "cell_type": "markdown",
      "metadata": {},
      "source": [
        "10. Afficher la valeur du paramètre `a_mod` et écrire la relation de Boyle-Mariotte."
      ]
    },
    {
      "cell_type": "code",
      "execution_count": null,
      "metadata": {
        "trusted": true
      },
      "outputs": [],
      "source": [
        "...."
      ]
    },
    {
      "cell_type": "markdown",
      "metadata": {},
      "source": []
    }
  ],
  "metadata": {
    "kernelspec": {
      "display_name": "Pyolite",
      "language": "python",
      "name": "python"
    },
    "language_info": {
      "codemirror_mode": {
        "name": "python",
        "version": 3
      },
      "file_extension": ".py",
      "mimetype": "text/x-python",
      "name": "python",
      "nbconvert_exporter": "python",
      "pygments_lexer": "ipython3",
      "version": "3.8"
    }
  },
  "nbformat": 4,
  "nbformat_minor": 4
}
