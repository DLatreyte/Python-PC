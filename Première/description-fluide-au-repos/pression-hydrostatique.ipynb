{
 "cells": [
  {
   "cell_type": "code",
   "execution_count": null,
   "metadata": {},
   "outputs": [],
   "source": [
    "from matplotlib import pyplot as plt\n",
    "from scipy.optimize import curve_fit\n",
    "import numpy as np\n",
    "import seaborn as sns"
   ]
  },
  {
   "cell_type": "markdown",
   "metadata": {
    "tags": []
   },
   "source": [
    "<center>\n",
    "    <h1>Pression hydrostatique</h1>\n",
    "</center>\n",
    "<hr />\n",
    "\n",
    "Dans un fluide au repos, la pression $P$ n’est **pas uniforme en tout point du fluide**. La *loi fondamentale de la statique des fluides* permet de relier la variation de la pression d’un fluide à sa masse volumique $\\rho$, au champ de pesanteur $g$ et à la profondeur $z$.\n",
    "\n",
    "> L'objectif de cette séance est d'analyser l'évolution de la pression hydrostatique en fonction de la profondeur à laquelle on se trouve.\n",
    "\n",
    "La situation est schématisée ci-dessous :\n"
   ]
  },
  {
   "cell_type": "markdown",
   "metadata": {},
   "source": [
    "1. Mesurer la pression hydrostatique pour chacune des profondeurs repérées et compléter les instructions ci-dessous."
   ]
  },
  {
   "cell_type": "code",
   "execution_count": null,
   "metadata": {},
   "outputs": [],
   "source": [
    "P = [1006, 1012, 1017, 1021, 1026]  # hPa\n",
    "z = [0, 8, 12, 17, 22]  # cm"
   ]
  },
  {
   "cell_type": "markdown",
   "metadata": {},
   "source": [
    "2. Convertir les pressions et les altitudes de façon à ce quelles soient exprimées dans les unités du système international."
   ]
  },
  {
   "cell_type": "code",
   "execution_count": null,
   "metadata": {},
   "outputs": [],
   "source": [
    "for i in range(len(P)):\n",
    "    P[i] = P[i] * 100\n",
    "    z[i] = z[i] * 1e-2"
   ]
  },
  {
   "cell_type": "markdown",
   "metadata": {},
   "source": [
    "3. Compléter les instructions suivantes de façon à ce que le graphique affiche l'évolution de la pression en fonction de la profondeur, soit $P = f(z)$."
   ]
  },
  {
   "cell_type": "code",
   "execution_count": null,
   "metadata": {},
   "outputs": [],
   "source": [
    "sns.set()\n",
    "plt.figure(figsize=(8, 6), dpi=100)\n",
    "plt.plot(z, P, 'o', label=\"Pression (Pa)\")\n",
    "plt.xlabel(\"z (m)\")\n",
    "plt.legend()\n",
    "plt.show()"
   ]
  },
  {
   "cell_type": "markdown",
   "metadata": {},
   "source": [
    "4. Comment peut-on qualifier la dépendance de la pression vis-à-vis de la profondeur $z$ ?"
   ]
  },
  {
   "cell_type": "markdown",
   "metadata": {},
   "source": [
    "On effectue maintenant une modélisation, en postulant que la relation qui existe entre $P$ et $z$ est une **relation affine**."
   ]
  },
  {
   "cell_type": "markdown",
   "metadata": {},
   "source": [
    "5. Compléter le code de la fonction modele de façon à ce qu'elle traduise le comportement recherché.\n",
    "Compléter aussi le code des deux instructions qui réalisent le tracé."
   ]
  },
  {
   "cell_type": "code",
   "execution_count": null,
   "metadata": {},
   "outputs": [],
   "source": [
    "# Fonction modèle\n",
    "def modele(x, a, b):\n",
    "    return a * x + b\n",
    "\n",
    "# Détermination des paramètres optimaux\n",
    "popt, pcov = curve_fit(modele, z, P)\n",
    "a_mod = popt[0]\n",
    "b_mod = popt[1]\n",
    "\n",
    "# Préparation du tracé\n",
    "z_mod = np.linspace(min(z), max(z), 50)\n",
    "P_mod = modele(z_mod, a_mod, b_mod)\n",
    "\n",
    "# Tracé\n",
    "plt.figure(figsize=(8, 6), dpi=100)\n",
    "plt.plot(z, P, 'o', label=\"Pression (Pa)\")\n",
    "plt.plot(z_mod, P_mod, '-', label=\"Pression (Pa) modélisée\")\n",
    "plt.xlabel(\"z (m)\")\n",
    "plt.legend()\n",
    "plt.show()"
   ]
  },
  {
   "cell_type": "markdown",
   "metadata": {},
   "source": [
    "6. Écrire l'équation de la relation $P_{mod} = f(z_{mod})$ en faisant afficher les valeurs des paramètres `a_mod` et `b_mod`."
   ]
  },
  {
   "cell_type": "code",
   "execution_count": null,
   "metadata": {},
   "outputs": [],
   "source": [
    "print(\"P = {} z + {}\".format(a_mod, b_mod))"
   ]
  },
  {
   "cell_type": "markdown",
   "metadata": {},
   "source": [
    "7. À quoi correspond, physiquement, la variable `b_mod` ?    \n",
    "Reprendre les valeurs expérimentales si nécessaire."
   ]
  },
  {
   "cell_type": "markdown",
   "metadata": {},
   "source": [
    "8. La masse volumique de l'eau est égale à $\\rho = 1.0\\cdot 10^3\\; \\mathrm{kg} \\cdot\\mathrm{m}^{-3}$ et le champ de pesanteur est égal à $g = 9.81\\; \\mathrm{N}\\cdot\\mathrm{kg}^{-1}$.   \n",
    "Calculer la valeur du produit de ces deux grandeurs."
   ]
  },
  {
   "cell_type": "code",
   "execution_count": null,
   "metadata": {},
   "outputs": [],
   "source": [
    "rho = 1e3  # kg.m-3\n",
    "g = 9.81   # N.kg-1\n",
    "\n",
    "print(\"𝞺⋅g = {}\".format(rho * g))"
   ]
  },
  {
   "cell_type": "markdown",
   "metadata": {},
   "source": [
    "9. Comparer les valeurs de `a_mod` et de $\\rho \\cdot g$."
   ]
  },
  {
   "cell_type": "markdown",
   "metadata": {},
   "source": [
    "10. Conclusion."
   ]
  }
 ],
 "metadata": {
  "kernelspec": {
   "display_name": "Python 3 (ipykernel)",
   "language": "python",
   "name": "python3"
  },
  "language_info": {
   "codemirror_mode": {
    "name": "ipython",
    "version": 3
   },
   "file_extension": ".py",
   "mimetype": "text/x-python",
   "name": "python",
   "nbconvert_exporter": "python",
   "pygments_lexer": "ipython3",
   "version": "3.9.7"
  }
 },
 "nbformat": 4,
 "nbformat_minor": 4
}
